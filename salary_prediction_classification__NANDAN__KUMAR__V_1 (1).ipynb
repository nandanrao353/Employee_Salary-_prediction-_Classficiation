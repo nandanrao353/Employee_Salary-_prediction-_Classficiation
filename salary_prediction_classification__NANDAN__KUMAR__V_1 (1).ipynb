{
  "cells": [
    {
      "cell_type": "markdown",
      "source": [
        "## Problem Statement\n",
        "\n",
        "Based on the qualites and knowledge of a person using classification algorithms to predict weather the salary of a person is going to be exceed 50,000 or not."
      ],
      "metadata": {
        "id": "xJ5tWWbEHZ1o"
      },
      "id": "xJ5tWWbEHZ1o"
    },
    {
      "cell_type": "markdown",
      "source": [
        "# About Dataset\n",
        "Extraction was done by Barry Becker from the 1994 Census database.\n",
        "Prediction task is to determine whether a person makes over 50K a year.\n",
        "\n",
        "## Columns are:\n",
        "age: continuous.\n",
        "\n",
        "workclass: Private, Self-emp-not-inc, Self-emp-inc, Federal-gov, Local-gov, State-gov, Without-pay, Never-worked.\n",
        "\n",
        "fnlwgt: continuous.\n",
        "\n",
        "education: Bachelors, Some-college, 11th, HS-grad, Prof-school, Assoc-acdm, Assoc-voc, 9th, 7th-8th, 12th, Masters, 1st-4th, 10th, Doctorate, 5th-6th, Preschool.\n",
        "\n",
        "education-num: continuous.\n",
        "\n",
        "marital-status: Married-civ-spouse, Divorced, Never-married, Separated, Widowed, Married-spouse-absent, Married-AF-spouse.\n",
        "\n",
        "occupation: Tech-support, Craft-repair, Other-service, Sales, Exec-managerial, Prof-specialty, Handlers-cleaners, Machine-op-inspct, Adm-clerical, Farming-fishing, Transport-moving, Priv-house-serv, Protective-serv, Armed-Forces.\n",
        "\n",
        "relationship: Wife, Own-child, Husband, Not-in-family, Other-relative, Unmarried.\n",
        "\n",
        "race: White, Asian-Pac-Islander, Amer-Indian-Eskimo, Other, Black.\n",
        "\n",
        "sex: Female, Male.\n",
        "\n",
        "capital-gain: continuous.\n",
        "\n",
        "capital-loss: continuous.\n",
        "hours-per-week: continuous.\n",
        "\n",
        "native-country: United-States, Cambodia, England, Puerto-Rico, Canada, Germany, Outlying-US(Guam-USVI-etc), India, Japan, Greece, South, China, Cuba, Iran, Honduras, Philippines, Italy, Poland, Jamaica, Vietnam, Mexico, Portugal, Ireland, France, Dominican-Republic, Laos, Ecuador, Taiwan, Haiti, Columbia, Hungary, Guatemala, Nicaragua, Scotland, Thailand, Yugoslavia, El-Salvador, Trinadad&Tobago, Peru, Hong, Holand-Netherlands.\n",
        "\n",
        "salary: <=50K or >50K"
      ],
      "metadata": {
        "id": "ay1f8YTw9WBN"
      },
      "id": "ay1f8YTw9WBN"
    },
    {
      "cell_type": "markdown",
      "source": [],
      "metadata": {
        "id": "Gsbw_CcI9TIu"
      },
      "id": "Gsbw_CcI9TIu"
    },
    {
      "cell_type": "markdown",
      "id": "60b04a5d",
      "metadata": {
        "id": "60b04a5d",
        "papermill": {
          "duration": 0.016909,
          "end_time": "2022-10-14T19:20:09.644878",
          "exception": false,
          "start_time": "2022-10-14T19:20:09.627969",
          "status": "completed"
        },
        "tags": []
      },
      "source": [
        "# Importing Libraries"
      ]
    },
    {
      "cell_type": "code",
      "execution_count": null,
      "id": "5faf1bca",
      "metadata": {
        "execution": {
          "iopub.execute_input": "2022-10-14T19:20:09.678342Z",
          "iopub.status.busy": "2022-10-14T19:20:09.677264Z",
          "iopub.status.idle": "2022-10-14T19:20:12.343547Z",
          "shell.execute_reply": "2022-10-14T19:20:12.342387Z"
        },
        "id": "5faf1bca",
        "papermill": {
          "duration": 2.686212,
          "end_time": "2022-10-14T19:20:12.346469",
          "exception": false,
          "start_time": "2022-10-14T19:20:09.660257",
          "status": "completed"
        },
        "tags": []
      },
      "outputs": [],
      "source": [
        "import pandas as pd\n",
        "import numpy as np\n",
        "import matplotlib.pyplot as plt\n",
        "import seaborn as sns \n",
        "from sklearn.preprocessing import LabelEncoder , MinMaxScaler\n",
        "from sklearn.model_selection import train_test_split\n",
        "from sklearn.ensemble import RandomForestClassifier\n",
        "\n",
        "from sklearn.metrics import accuracy_score, confusion_matrix, recall_score, precision_score, classification_report\n",
        "from sklearn.naive_bayes import GaussianNB\n",
        "from sklearn.metrics import plot_confusion_matrix\n",
        "from imblearn.over_sampling import SMOTE \n",
        "from sklearn.preprocessing import RobustScaler\n"
      ]
    },
    {
      "cell_type": "markdown",
      "id": "9335997b",
      "metadata": {
        "id": "9335997b",
        "papermill": {
          "duration": 0.01526,
          "end_time": "2022-10-14T19:20:12.377486",
          "exception": false,
          "start_time": "2022-10-14T19:20:12.362226",
          "status": "completed"
        },
        "tags": []
      },
      "source": [
        "# Data Preprocessing"
      ]
    },
    {
      "cell_type": "code",
      "execution_count": null,
      "id": "c2f944d2",
      "metadata": {
        "execution": {
          "iopub.execute_input": "2022-10-14T19:20:12.410735Z",
          "iopub.status.busy": "2022-10-14T19:20:12.409466Z",
          "iopub.status.idle": "2022-10-14T19:20:12.558353Z",
          "shell.execute_reply": "2022-10-14T19:20:12.557327Z"
        },
        "id": "c2f944d2",
        "papermill": {
          "duration": 0.168006,
          "end_time": "2022-10-14T19:20:12.560860",
          "exception": false,
          "start_time": "2022-10-14T19:20:12.392854",
          "status": "completed"
        },
        "tags": []
      },
      "outputs": [],
      "source": [
        "# Reading data \n",
        "df = pd.read_csv(\"salary.csv\", na_values=[' ?' ])"
      ]
    },
    {
      "cell_type": "code",
      "source": [
        "df.head()"
      ],
      "metadata": {
        "colab": {
          "base_uri": "https://localhost:8080/",
          "height": 444
        },
        "id": "onukPTjnIai-",
        "outputId": "96f20a0e-1b5a-4957-ef01-b0139667ec5f"
      },
      "id": "onukPTjnIai-",
      "execution_count": null,
      "outputs": [
        {
          "output_type": "execute_result",
          "data": {
            "text/plain": [
              "   age          workclass  fnlwgt   education  education-num  \\\n",
              "0   39          State-gov   77516   Bachelors             13   \n",
              "1   50   Self-emp-not-inc   83311   Bachelors             13   \n",
              "2   38            Private  215646     HS-grad              9   \n",
              "3   53            Private  234721        11th              7   \n",
              "4   28            Private  338409   Bachelors             13   \n",
              "\n",
              "        marital-status          occupation    relationship    race      sex  \\\n",
              "0        Never-married        Adm-clerical   Not-in-family   White     Male   \n",
              "1   Married-civ-spouse     Exec-managerial         Husband   White     Male   \n",
              "2             Divorced   Handlers-cleaners   Not-in-family   White     Male   \n",
              "3   Married-civ-spouse   Handlers-cleaners         Husband   Black     Male   \n",
              "4   Married-civ-spouse      Prof-specialty            Wife   Black   Female   \n",
              "\n",
              "   capital-gain  capital-loss  hours-per-week  native-country  salary  \n",
              "0          2174             0              40   United-States   <=50K  \n",
              "1             0             0              13   United-States   <=50K  \n",
              "2             0             0              40   United-States   <=50K  \n",
              "3             0             0              40   United-States   <=50K  \n",
              "4             0             0              40            Cuba   <=50K  "
            ],
            "text/html": [
              "\n",
              "  <div id=\"df-2cbee5d6-6cec-4ed6-be4e-1f3cb03b7499\">\n",
              "    <div class=\"colab-df-container\">\n",
              "      <div>\n",
              "<style scoped>\n",
              "    .dataframe tbody tr th:only-of-type {\n",
              "        vertical-align: middle;\n",
              "    }\n",
              "\n",
              "    .dataframe tbody tr th {\n",
              "        vertical-align: top;\n",
              "    }\n",
              "\n",
              "    .dataframe thead th {\n",
              "        text-align: right;\n",
              "    }\n",
              "</style>\n",
              "<table border=\"1\" class=\"dataframe\">\n",
              "  <thead>\n",
              "    <tr style=\"text-align: right;\">\n",
              "      <th></th>\n",
              "      <th>age</th>\n",
              "      <th>workclass</th>\n",
              "      <th>fnlwgt</th>\n",
              "      <th>education</th>\n",
              "      <th>education-num</th>\n",
              "      <th>marital-status</th>\n",
              "      <th>occupation</th>\n",
              "      <th>relationship</th>\n",
              "      <th>race</th>\n",
              "      <th>sex</th>\n",
              "      <th>capital-gain</th>\n",
              "      <th>capital-loss</th>\n",
              "      <th>hours-per-week</th>\n",
              "      <th>native-country</th>\n",
              "      <th>salary</th>\n",
              "    </tr>\n",
              "  </thead>\n",
              "  <tbody>\n",
              "    <tr>\n",
              "      <th>0</th>\n",
              "      <td>39</td>\n",
              "      <td>State-gov</td>\n",
              "      <td>77516</td>\n",
              "      <td>Bachelors</td>\n",
              "      <td>13</td>\n",
              "      <td>Never-married</td>\n",
              "      <td>Adm-clerical</td>\n",
              "      <td>Not-in-family</td>\n",
              "      <td>White</td>\n",
              "      <td>Male</td>\n",
              "      <td>2174</td>\n",
              "      <td>0</td>\n",
              "      <td>40</td>\n",
              "      <td>United-States</td>\n",
              "      <td>&lt;=50K</td>\n",
              "    </tr>\n",
              "    <tr>\n",
              "      <th>1</th>\n",
              "      <td>50</td>\n",
              "      <td>Self-emp-not-inc</td>\n",
              "      <td>83311</td>\n",
              "      <td>Bachelors</td>\n",
              "      <td>13</td>\n",
              "      <td>Married-civ-spouse</td>\n",
              "      <td>Exec-managerial</td>\n",
              "      <td>Husband</td>\n",
              "      <td>White</td>\n",
              "      <td>Male</td>\n",
              "      <td>0</td>\n",
              "      <td>0</td>\n",
              "      <td>13</td>\n",
              "      <td>United-States</td>\n",
              "      <td>&lt;=50K</td>\n",
              "    </tr>\n",
              "    <tr>\n",
              "      <th>2</th>\n",
              "      <td>38</td>\n",
              "      <td>Private</td>\n",
              "      <td>215646</td>\n",
              "      <td>HS-grad</td>\n",
              "      <td>9</td>\n",
              "      <td>Divorced</td>\n",
              "      <td>Handlers-cleaners</td>\n",
              "      <td>Not-in-family</td>\n",
              "      <td>White</td>\n",
              "      <td>Male</td>\n",
              "      <td>0</td>\n",
              "      <td>0</td>\n",
              "      <td>40</td>\n",
              "      <td>United-States</td>\n",
              "      <td>&lt;=50K</td>\n",
              "    </tr>\n",
              "    <tr>\n",
              "      <th>3</th>\n",
              "      <td>53</td>\n",
              "      <td>Private</td>\n",
              "      <td>234721</td>\n",
              "      <td>11th</td>\n",
              "      <td>7</td>\n",
              "      <td>Married-civ-spouse</td>\n",
              "      <td>Handlers-cleaners</td>\n",
              "      <td>Husband</td>\n",
              "      <td>Black</td>\n",
              "      <td>Male</td>\n",
              "      <td>0</td>\n",
              "      <td>0</td>\n",
              "      <td>40</td>\n",
              "      <td>United-States</td>\n",
              "      <td>&lt;=50K</td>\n",
              "    </tr>\n",
              "    <tr>\n",
              "      <th>4</th>\n",
              "      <td>28</td>\n",
              "      <td>Private</td>\n",
              "      <td>338409</td>\n",
              "      <td>Bachelors</td>\n",
              "      <td>13</td>\n",
              "      <td>Married-civ-spouse</td>\n",
              "      <td>Prof-specialty</td>\n",
              "      <td>Wife</td>\n",
              "      <td>Black</td>\n",
              "      <td>Female</td>\n",
              "      <td>0</td>\n",
              "      <td>0</td>\n",
              "      <td>40</td>\n",
              "      <td>Cuba</td>\n",
              "      <td>&lt;=50K</td>\n",
              "    </tr>\n",
              "  </tbody>\n",
              "</table>\n",
              "</div>\n",
              "      <button class=\"colab-df-convert\" onclick=\"convertToInteractive('df-2cbee5d6-6cec-4ed6-be4e-1f3cb03b7499')\"\n",
              "              title=\"Convert this dataframe to an interactive table.\"\n",
              "              style=\"display:none;\">\n",
              "        \n",
              "  <svg xmlns=\"http://www.w3.org/2000/svg\" height=\"24px\"viewBox=\"0 0 24 24\"\n",
              "       width=\"24px\">\n",
              "    <path d=\"M0 0h24v24H0V0z\" fill=\"none\"/>\n",
              "    <path d=\"M18.56 5.44l.94 2.06.94-2.06 2.06-.94-2.06-.94-.94-2.06-.94 2.06-2.06.94zm-11 1L8.5 8.5l.94-2.06 2.06-.94-2.06-.94L8.5 2.5l-.94 2.06-2.06.94zm10 10l.94 2.06.94-2.06 2.06-.94-2.06-.94-.94-2.06-.94 2.06-2.06.94z\"/><path d=\"M17.41 7.96l-1.37-1.37c-.4-.4-.92-.59-1.43-.59-.52 0-1.04.2-1.43.59L10.3 9.45l-7.72 7.72c-.78.78-.78 2.05 0 2.83L4 21.41c.39.39.9.59 1.41.59.51 0 1.02-.2 1.41-.59l7.78-7.78 2.81-2.81c.8-.78.8-2.07 0-2.86zM5.41 20L4 18.59l7.72-7.72 1.47 1.35L5.41 20z\"/>\n",
              "  </svg>\n",
              "      </button>\n",
              "      \n",
              "  <style>\n",
              "    .colab-df-container {\n",
              "      display:flex;\n",
              "      flex-wrap:wrap;\n",
              "      gap: 12px;\n",
              "    }\n",
              "\n",
              "    .colab-df-convert {\n",
              "      background-color: #E8F0FE;\n",
              "      border: none;\n",
              "      border-radius: 50%;\n",
              "      cursor: pointer;\n",
              "      display: none;\n",
              "      fill: #1967D2;\n",
              "      height: 32px;\n",
              "      padding: 0 0 0 0;\n",
              "      width: 32px;\n",
              "    }\n",
              "\n",
              "    .colab-df-convert:hover {\n",
              "      background-color: #E2EBFA;\n",
              "      box-shadow: 0px 1px 2px rgba(60, 64, 67, 0.3), 0px 1px 3px 1px rgba(60, 64, 67, 0.15);\n",
              "      fill: #174EA6;\n",
              "    }\n",
              "\n",
              "    [theme=dark] .colab-df-convert {\n",
              "      background-color: #3B4455;\n",
              "      fill: #D2E3FC;\n",
              "    }\n",
              "\n",
              "    [theme=dark] .colab-df-convert:hover {\n",
              "      background-color: #434B5C;\n",
              "      box-shadow: 0px 1px 3px 1px rgba(0, 0, 0, 0.15);\n",
              "      filter: drop-shadow(0px 1px 2px rgba(0, 0, 0, 0.3));\n",
              "      fill: #FFFFFF;\n",
              "    }\n",
              "  </style>\n",
              "\n",
              "      <script>\n",
              "        const buttonEl =\n",
              "          document.querySelector('#df-2cbee5d6-6cec-4ed6-be4e-1f3cb03b7499 button.colab-df-convert');\n",
              "        buttonEl.style.display =\n",
              "          google.colab.kernel.accessAllowed ? 'block' : 'none';\n",
              "\n",
              "        async function convertToInteractive(key) {\n",
              "          const element = document.querySelector('#df-2cbee5d6-6cec-4ed6-be4e-1f3cb03b7499');\n",
              "          const dataTable =\n",
              "            await google.colab.kernel.invokeFunction('convertToInteractive',\n",
              "                                                     [key], {});\n",
              "          if (!dataTable) return;\n",
              "\n",
              "          const docLinkHtml = 'Like what you see? Visit the ' +\n",
              "            '<a target=\"_blank\" href=https://colab.research.google.com/notebooks/data_table.ipynb>data table notebook</a>'\n",
              "            + ' to learn more about interactive tables.';\n",
              "          element.innerHTML = '';\n",
              "          dataTable['output_type'] = 'display_data';\n",
              "          await google.colab.output.renderOutput(dataTable, element);\n",
              "          const docLink = document.createElement('div');\n",
              "          docLink.innerHTML = docLinkHtml;\n",
              "          element.appendChild(docLink);\n",
              "        }\n",
              "      </script>\n",
              "    </div>\n",
              "  </div>\n",
              "  "
            ]
          },
          "metadata": {},
          "execution_count": 3
        }
      ]
    },
    {
      "cell_type": "code",
      "source": [
        "df.shape"
      ],
      "metadata": {
        "colab": {
          "base_uri": "https://localhost:8080/"
        },
        "id": "Djiuej3ZIcpZ",
        "outputId": "04fe7eab-51aa-4742-94c2-ef1b43cb877a"
      },
      "id": "Djiuej3ZIcpZ",
      "execution_count": null,
      "outputs": [
        {
          "output_type": "execute_result",
          "data": {
            "text/plain": [
              "(32561, 15)"
            ]
          },
          "metadata": {},
          "execution_count": 4
        }
      ]
    },
    {
      "cell_type": "markdown",
      "source": [
        "Dataset contains 15 features including target variable with 32,561 rows."
      ],
      "metadata": {
        "id": "Rvl9Phz5IhWm"
      },
      "id": "Rvl9Phz5IhWm"
    },
    {
      "cell_type": "code",
      "execution_count": null,
      "id": "076d2d84",
      "metadata": {
        "execution": {
          "iopub.execute_input": "2022-10-14T19:20:12.593810Z",
          "iopub.status.busy": "2022-10-14T19:20:12.593089Z",
          "iopub.status.idle": "2022-10-14T19:20:12.612215Z",
          "shell.execute_reply": "2022-10-14T19:20:12.611330Z"
        },
        "id": "076d2d84",
        "outputId": "dc2f0984-c8dc-45a3-870a-1596a7990133",
        "papermill": {
          "duration": 0.037839,
          "end_time": "2022-10-14T19:20:12.614274",
          "exception": false,
          "start_time": "2022-10-14T19:20:12.576435",
          "status": "completed"
        },
        "tags": [],
        "colab": {
          "base_uri": "https://localhost:8080/"
        }
      },
      "outputs": [
        {
          "output_type": "execute_result",
          "data": {
            "text/plain": [
              "array([' <=50K', ' >50K'], dtype=object)"
            ]
          },
          "metadata": {},
          "execution_count": 5
        }
      ],
      "source": [
        "df['salary'].unique()"
      ]
    },
    {
      "cell_type": "markdown",
      "source": [
        "Target coulmn salary has two values making this project binary classification with ' <=50K', ' >50K' values"
      ],
      "metadata": {
        "id": "H7Y06g1YIq-D"
      },
      "id": "H7Y06g1YIq-D"
    },
    {
      "cell_type": "code",
      "execution_count": null,
      "id": "63ecd555",
      "metadata": {
        "execution": {
          "iopub.execute_input": "2022-10-14T19:20:12.648089Z",
          "iopub.status.busy": "2022-10-14T19:20:12.647292Z",
          "iopub.status.idle": "2022-10-14T19:20:12.654718Z",
          "shell.execute_reply": "2022-10-14T19:20:12.653713Z"
        },
        "id": "63ecd555",
        "outputId": "f3285a45-80c6-42ab-b4c2-74ad9aaf5faf",
        "papermill": {
          "duration": 0.026898,
          "end_time": "2022-10-14T19:20:12.656876",
          "exception": false,
          "start_time": "2022-10-14T19:20:12.629978",
          "status": "completed"
        },
        "tags": [],
        "colab": {
          "base_uri": "https://localhost:8080/"
        }
      },
      "outputs": [
        {
          "output_type": "execute_result",
          "data": {
            "text/plain": [
              "Index(['age', 'workclass', 'fnlwgt', 'education', 'education-num',\n",
              "       'marital-status', 'occupation', 'relationship', 'race', 'sex',\n",
              "       'capital-gain', 'capital-loss', 'hours-per-week', 'native-country',\n",
              "       'salary'],\n",
              "      dtype='object')"
            ]
          },
          "metadata": {},
          "execution_count": 6
        }
      ],
      "source": [
        "df.columns"
      ]
    },
    {
      "cell_type": "code",
      "execution_count": null,
      "id": "49ac2c5c",
      "metadata": {
        "execution": {
          "iopub.execute_input": "2022-10-14T19:20:12.791568Z",
          "iopub.status.busy": "2022-10-14T19:20:12.791158Z",
          "iopub.status.idle": "2022-10-14T19:20:12.828432Z",
          "shell.execute_reply": "2022-10-14T19:20:12.827256Z"
        },
        "id": "49ac2c5c",
        "outputId": "91f8fc20-5ee7-4af7-f493-94c6b0542891",
        "papermill": {
          "duration": 0.057057,
          "end_time": "2022-10-14T19:20:12.831002",
          "exception": false,
          "start_time": "2022-10-14T19:20:12.773945",
          "status": "completed"
        },
        "tags": [],
        "colab": {
          "base_uri": "https://localhost:8080/"
        }
      },
      "outputs": [
        {
          "output_type": "stream",
          "name": "stdout",
          "text": [
            "<class 'pandas.core.frame.DataFrame'>\n",
            "RangeIndex: 32561 entries, 0 to 32560\n",
            "Data columns (total 15 columns):\n",
            " #   Column          Non-Null Count  Dtype \n",
            "---  ------          --------------  ----- \n",
            " 0   age             32561 non-null  int64 \n",
            " 1   workclass       30725 non-null  object\n",
            " 2   fnlwgt          32561 non-null  int64 \n",
            " 3   education       32561 non-null  object\n",
            " 4   education-num   32561 non-null  int64 \n",
            " 5   marital-status  32561 non-null  object\n",
            " 6   occupation      30718 non-null  object\n",
            " 7   relationship    32561 non-null  object\n",
            " 8   race            32561 non-null  object\n",
            " 9   sex             32561 non-null  object\n",
            " 10  capital-gain    32561 non-null  int64 \n",
            " 11  capital-loss    32561 non-null  int64 \n",
            " 12  hours-per-week  32561 non-null  int64 \n",
            " 13  native-country  31978 non-null  object\n",
            " 14  salary          32561 non-null  object\n",
            "dtypes: int64(6), object(9)\n",
            "memory usage: 3.7+ MB\n"
          ]
        }
      ],
      "source": [
        "# check data type of each coulmn\n",
        "df.info()"
      ]
    },
    {
      "cell_type": "markdown",
      "source": [
        "Dataset contains both categorical and numerical columns"
      ],
      "metadata": {
        "id": "pNdpGbLyI3lJ"
      },
      "id": "pNdpGbLyI3lJ"
    },
    {
      "cell_type": "code",
      "execution_count": null,
      "id": "1ac9a0ff",
      "metadata": {
        "execution": {
          "iopub.execute_input": "2022-10-14T19:20:12.869344Z",
          "iopub.status.busy": "2022-10-14T19:20:12.868824Z",
          "iopub.status.idle": "2022-10-14T19:20:12.932296Z",
          "shell.execute_reply": "2022-10-14T19:20:12.931456Z"
        },
        "id": "1ac9a0ff",
        "outputId": "9bc1251b-1fdf-4c2e-d31f-eaaf51d835e7",
        "papermill": {
          "duration": 0.085901,
          "end_time": "2022-10-14T19:20:12.934405",
          "exception": false,
          "start_time": "2022-10-14T19:20:12.848504",
          "status": "completed"
        },
        "tags": [],
        "colab": {
          "base_uri": "https://localhost:8080/",
          "height": 520
        }
      },
      "outputs": [
        {
          "output_type": "execute_result",
          "data": {
            "text/plain": [
              "                    Count_of_unique_values\n",
              "0              age                      73\n",
              "1        workclass                       8\n",
              "2           fnlwgt                   21648\n",
              "3        education                      16\n",
              "4    education-num                      16\n",
              "5   marital-status                       7\n",
              "6       occupation                      14\n",
              "7     relationship                       6\n",
              "8             race                       5\n",
              "9              sex                       2\n",
              "10    capital-gain                     119\n",
              "11    capital-loss                      92\n",
              "12  hours-per-week                      94\n",
              "13  native-country                      41\n",
              "14          salary                       2"
            ],
            "text/html": [
              "\n",
              "  <div id=\"df-72508710-072d-4362-a77c-3a06d8439faa\">\n",
              "    <div class=\"colab-df-container\">\n",
              "      <div>\n",
              "<style scoped>\n",
              "    .dataframe tbody tr th:only-of-type {\n",
              "        vertical-align: middle;\n",
              "    }\n",
              "\n",
              "    .dataframe tbody tr th {\n",
              "        vertical-align: top;\n",
              "    }\n",
              "\n",
              "    .dataframe thead th {\n",
              "        text-align: right;\n",
              "    }\n",
              "</style>\n",
              "<table border=\"1\" class=\"dataframe\">\n",
              "  <thead>\n",
              "    <tr style=\"text-align: right;\">\n",
              "      <th></th>\n",
              "      <th></th>\n",
              "      <th>Count_of_unique_values</th>\n",
              "    </tr>\n",
              "  </thead>\n",
              "  <tbody>\n",
              "    <tr>\n",
              "      <th>0</th>\n",
              "      <td>age</td>\n",
              "      <td>73</td>\n",
              "    </tr>\n",
              "    <tr>\n",
              "      <th>1</th>\n",
              "      <td>workclass</td>\n",
              "      <td>8</td>\n",
              "    </tr>\n",
              "    <tr>\n",
              "      <th>2</th>\n",
              "      <td>fnlwgt</td>\n",
              "      <td>21648</td>\n",
              "    </tr>\n",
              "    <tr>\n",
              "      <th>3</th>\n",
              "      <td>education</td>\n",
              "      <td>16</td>\n",
              "    </tr>\n",
              "    <tr>\n",
              "      <th>4</th>\n",
              "      <td>education-num</td>\n",
              "      <td>16</td>\n",
              "    </tr>\n",
              "    <tr>\n",
              "      <th>5</th>\n",
              "      <td>marital-status</td>\n",
              "      <td>7</td>\n",
              "    </tr>\n",
              "    <tr>\n",
              "      <th>6</th>\n",
              "      <td>occupation</td>\n",
              "      <td>14</td>\n",
              "    </tr>\n",
              "    <tr>\n",
              "      <th>7</th>\n",
              "      <td>relationship</td>\n",
              "      <td>6</td>\n",
              "    </tr>\n",
              "    <tr>\n",
              "      <th>8</th>\n",
              "      <td>race</td>\n",
              "      <td>5</td>\n",
              "    </tr>\n",
              "    <tr>\n",
              "      <th>9</th>\n",
              "      <td>sex</td>\n",
              "      <td>2</td>\n",
              "    </tr>\n",
              "    <tr>\n",
              "      <th>10</th>\n",
              "      <td>capital-gain</td>\n",
              "      <td>119</td>\n",
              "    </tr>\n",
              "    <tr>\n",
              "      <th>11</th>\n",
              "      <td>capital-loss</td>\n",
              "      <td>92</td>\n",
              "    </tr>\n",
              "    <tr>\n",
              "      <th>12</th>\n",
              "      <td>hours-per-week</td>\n",
              "      <td>94</td>\n",
              "    </tr>\n",
              "    <tr>\n",
              "      <th>13</th>\n",
              "      <td>native-country</td>\n",
              "      <td>41</td>\n",
              "    </tr>\n",
              "    <tr>\n",
              "      <th>14</th>\n",
              "      <td>salary</td>\n",
              "      <td>2</td>\n",
              "    </tr>\n",
              "  </tbody>\n",
              "</table>\n",
              "</div>\n",
              "      <button class=\"colab-df-convert\" onclick=\"convertToInteractive('df-72508710-072d-4362-a77c-3a06d8439faa')\"\n",
              "              title=\"Convert this dataframe to an interactive table.\"\n",
              "              style=\"display:none;\">\n",
              "        \n",
              "  <svg xmlns=\"http://www.w3.org/2000/svg\" height=\"24px\"viewBox=\"0 0 24 24\"\n",
              "       width=\"24px\">\n",
              "    <path d=\"M0 0h24v24H0V0z\" fill=\"none\"/>\n",
              "    <path d=\"M18.56 5.44l.94 2.06.94-2.06 2.06-.94-2.06-.94-.94-2.06-.94 2.06-2.06.94zm-11 1L8.5 8.5l.94-2.06 2.06-.94-2.06-.94L8.5 2.5l-.94 2.06-2.06.94zm10 10l.94 2.06.94-2.06 2.06-.94-2.06-.94-.94-2.06-.94 2.06-2.06.94z\"/><path d=\"M17.41 7.96l-1.37-1.37c-.4-.4-.92-.59-1.43-.59-.52 0-1.04.2-1.43.59L10.3 9.45l-7.72 7.72c-.78.78-.78 2.05 0 2.83L4 21.41c.39.39.9.59 1.41.59.51 0 1.02-.2 1.41-.59l7.78-7.78 2.81-2.81c.8-.78.8-2.07 0-2.86zM5.41 20L4 18.59l7.72-7.72 1.47 1.35L5.41 20z\"/>\n",
              "  </svg>\n",
              "      </button>\n",
              "      \n",
              "  <style>\n",
              "    .colab-df-container {\n",
              "      display:flex;\n",
              "      flex-wrap:wrap;\n",
              "      gap: 12px;\n",
              "    }\n",
              "\n",
              "    .colab-df-convert {\n",
              "      background-color: #E8F0FE;\n",
              "      border: none;\n",
              "      border-radius: 50%;\n",
              "      cursor: pointer;\n",
              "      display: none;\n",
              "      fill: #1967D2;\n",
              "      height: 32px;\n",
              "      padding: 0 0 0 0;\n",
              "      width: 32px;\n",
              "    }\n",
              "\n",
              "    .colab-df-convert:hover {\n",
              "      background-color: #E2EBFA;\n",
              "      box-shadow: 0px 1px 2px rgba(60, 64, 67, 0.3), 0px 1px 3px 1px rgba(60, 64, 67, 0.15);\n",
              "      fill: #174EA6;\n",
              "    }\n",
              "\n",
              "    [theme=dark] .colab-df-convert {\n",
              "      background-color: #3B4455;\n",
              "      fill: #D2E3FC;\n",
              "    }\n",
              "\n",
              "    [theme=dark] .colab-df-convert:hover {\n",
              "      background-color: #434B5C;\n",
              "      box-shadow: 0px 1px 3px 1px rgba(0, 0, 0, 0.15);\n",
              "      filter: drop-shadow(0px 1px 2px rgba(0, 0, 0, 0.3));\n",
              "      fill: #FFFFFF;\n",
              "    }\n",
              "  </style>\n",
              "\n",
              "      <script>\n",
              "        const buttonEl =\n",
              "          document.querySelector('#df-72508710-072d-4362-a77c-3a06d8439faa button.colab-df-convert');\n",
              "        buttonEl.style.display =\n",
              "          google.colab.kernel.accessAllowed ? 'block' : 'none';\n",
              "\n",
              "        async function convertToInteractive(key) {\n",
              "          const element = document.querySelector('#df-72508710-072d-4362-a77c-3a06d8439faa');\n",
              "          const dataTable =\n",
              "            await google.colab.kernel.invokeFunction('convertToInteractive',\n",
              "                                                     [key], {});\n",
              "          if (!dataTable) return;\n",
              "\n",
              "          const docLinkHtml = 'Like what you see? Visit the ' +\n",
              "            '<a target=\"_blank\" href=https://colab.research.google.com/notebooks/data_table.ipynb>data table notebook</a>'\n",
              "            + ' to learn more about interactive tables.';\n",
              "          element.innerHTML = '';\n",
              "          dataTable['output_type'] = 'display_data';\n",
              "          await google.colab.output.renderOutput(dataTable, element);\n",
              "          const docLink = document.createElement('div');\n",
              "          docLink.innerHTML = docLinkHtml;\n",
              "          element.appendChild(docLink);\n",
              "        }\n",
              "      </script>\n",
              "    </div>\n",
              "  </div>\n",
              "  "
            ]
          },
          "metadata": {},
          "execution_count": 8
        }
      ],
      "source": [
        "# Number of uniques values in dataframe\n",
        "\n",
        "pd.DataFrame({'': df.nunique().index , 'Count_of_unique_values':  df.nunique().values})"
      ]
    },
    {
      "cell_type": "code",
      "execution_count": null,
      "id": "7887916d",
      "metadata": {
        "execution": {
          "iopub.execute_input": "2022-10-14T19:20:12.970337Z",
          "iopub.status.busy": "2022-10-14T19:20:12.969275Z",
          "iopub.status.idle": "2022-10-14T19:20:13.001258Z",
          "shell.execute_reply": "2022-10-14T19:20:12.998894Z"
        },
        "id": "7887916d",
        "outputId": "36970371-3a47-49ef-c1fa-fbcfbe4e4964",
        "papermill": {
          "duration": 0.053109,
          "end_time": "2022-10-14T19:20:13.004101",
          "exception": false,
          "start_time": "2022-10-14T19:20:12.950992",
          "status": "completed"
        },
        "tags": [],
        "colab": {
          "base_uri": "https://localhost:8080/"
        }
      },
      "outputs": [
        {
          "output_type": "stream",
          "name": "stdout",
          "text": [
            "age\n",
            "\n",
            "[39 50 38 53 28 37 49 52 31 42 30 23 32 40 34 25 43 54 35 59 56 19 20 45\n",
            " 22 48 21 24 57 44 41 29 18 47 46 36 79 27 67 33 76 17 55 61 70 64 71 68\n",
            " 66 51 58 26 60 90 75 65 77 62 63 80 72 74 69 73 81 78 88 82 83 84 85 86\n",
            " 87]\n",
            "\n",
            "workclass\n",
            "\n",
            "[' State-gov' ' Self-emp-not-inc' ' Private' ' Federal-gov' ' Local-gov'\n",
            " nan ' Self-emp-inc' ' Without-pay' ' Never-worked']\n",
            "\n",
            "fnlwgt\n",
            "\n",
            "[ 77516  83311 215646 ...  34066  84661 257302]\n",
            "\n",
            "education\n",
            "\n",
            "[' Bachelors' ' HS-grad' ' 11th' ' Masters' ' 9th' ' Some-college'\n",
            " ' Assoc-acdm' ' Assoc-voc' ' 7th-8th' ' Doctorate' ' Prof-school'\n",
            " ' 5th-6th' ' 10th' ' 1st-4th' ' Preschool' ' 12th']\n",
            "\n",
            "education-num\n",
            "\n",
            "[13  9  7 14  5 10 12 11  4 16 15  3  6  2  1  8]\n",
            "\n",
            "marital-status\n",
            "\n",
            "[' Never-married' ' Married-civ-spouse' ' Divorced'\n",
            " ' Married-spouse-absent' ' Separated' ' Married-AF-spouse' ' Widowed']\n",
            "\n",
            "occupation\n",
            "\n",
            "[' Adm-clerical' ' Exec-managerial' ' Handlers-cleaners' ' Prof-specialty'\n",
            " ' Other-service' ' Sales' ' Craft-repair' ' Transport-moving'\n",
            " ' Farming-fishing' ' Machine-op-inspct' ' Tech-support' nan\n",
            " ' Protective-serv' ' Armed-Forces' ' Priv-house-serv']\n",
            "\n",
            "relationship\n",
            "\n",
            "[' Not-in-family' ' Husband' ' Wife' ' Own-child' ' Unmarried'\n",
            " ' Other-relative']\n",
            "\n",
            "race\n",
            "\n",
            "[' White' ' Black' ' Asian-Pac-Islander' ' Amer-Indian-Eskimo' ' Other']\n",
            "\n",
            "sex\n",
            "\n",
            "[' Male' ' Female']\n",
            "\n",
            "capital-gain\n",
            "\n",
            "[ 2174     0 14084  5178  5013  2407 14344 15024  7688 34095  4064  4386\n",
            "  7298  1409  3674  1055  3464  2050  2176   594 20051  6849  4101  1111\n",
            "  8614  3411  2597 25236  4650  9386  2463  3103 10605  2964  3325  2580\n",
            "  3471  4865 99999  6514  1471  2329  2105  2885 25124 10520  2202  2961\n",
            " 27828  6767  2228  1506 13550  2635  5556  4787  3781  3137  3818  3942\n",
            "   914   401  2829  2977  4934  2062  2354  5455 15020  1424  3273 22040\n",
            "  4416  3908 10566   991  4931  1086  7430  6497   114  7896  2346  3418\n",
            "  3432  2907  1151  2414  2290 15831 41310  4508  2538  3456  6418  1848\n",
            "  3887  5721  9562  1455  2036  1831 11678  2936  2993  7443  6360  1797\n",
            "  1173  4687  6723  2009  6097  2653  1639 18481  7978  2387  5060]\n",
            "\n",
            "capital-loss\n",
            "\n",
            "[   0 2042 1408 1902 1573 1887 1719 1762 1564 2179 1816 1980 1977 1876\n",
            " 1340 2206 1741 1485 2339 2415 1380 1721 2051 2377 1669 2352 1672  653\n",
            " 2392 1504 2001 1590 1651 1628 1848 1740 2002 1579 2258 1602  419 2547\n",
            " 2174 2205 1726 2444 1138 2238  625  213 1539  880 1668 1092 1594 3004\n",
            " 2231 1844  810 2824 2559 2057 1974  974 2149 1825 1735 1258 2129 2603\n",
            " 2282  323 4356 2246 1617 1648 2489 3770 1755 3683 2267 2080 2457  155\n",
            " 3900 2201 1944 2467 2163 2754 2472 1411]\n",
            "\n",
            "hours-per-week\n",
            "\n",
            "[40 13 16 45 50 80 30 35 60 20 52 44 15 25 38 43 55 48 58 32 70  2 22 56\n",
            " 41 28 36 24 46 42 12 65  1 10 34 75 98 33 54  8  6 64 19 18 72  5  9 47\n",
            " 37 21 26 14  4 59  7 99 53 39 62 57 78 90 66 11 49 84  3 17 68 27 85 31\n",
            " 51 77 63 23 87 88 73 89 97 94 29 96 67 82 86 91 81 76 92 61 74 95]\n",
            "\n",
            "native-country\n",
            "\n",
            "[' United-States' ' Cuba' ' Jamaica' ' India' nan ' Mexico' ' South'\n",
            " ' Puerto-Rico' ' Honduras' ' England' ' Canada' ' Germany' ' Iran'\n",
            " ' Philippines' ' Italy' ' Poland' ' Columbia' ' Cambodia' ' Thailand'\n",
            " ' Ecuador' ' Laos' ' Taiwan' ' Haiti' ' Portugal' ' Dominican-Republic'\n",
            " ' El-Salvador' ' France' ' Guatemala' ' China' ' Japan' ' Yugoslavia'\n",
            " ' Peru' ' Outlying-US(Guam-USVI-etc)' ' Scotland' ' Trinadad&Tobago'\n",
            " ' Greece' ' Nicaragua' ' Vietnam' ' Hong' ' Ireland' ' Hungary'\n",
            " ' Holand-Netherlands']\n",
            "\n",
            "salary\n",
            "\n",
            "[' <=50K' ' >50K']\n",
            "\n"
          ]
        }
      ],
      "source": [
        "#show unique values for all columns\n",
        "for col in df.columns.values:\n",
        "  print(col, end=\"\\n\\n\")\n",
        "  print(df[col].unique(), end=\"\\n\\n\")"
      ]
    },
    {
      "cell_type": "code",
      "execution_count": null,
      "id": "a4c2ebe8",
      "metadata": {
        "execution": {
          "iopub.execute_input": "2022-10-14T19:20:13.039804Z",
          "iopub.status.busy": "2022-10-14T19:20:13.039166Z",
          "iopub.status.idle": "2022-10-14T19:20:13.073972Z",
          "shell.execute_reply": "2022-10-14T19:20:13.072647Z"
        },
        "id": "a4c2ebe8",
        "outputId": "31588a2f-5084-44c4-adf1-b9b57bb13b3e",
        "papermill": {
          "duration": 0.055841,
          "end_time": "2022-10-14T19:20:13.076772",
          "exception": false,
          "start_time": "2022-10-14T19:20:13.020931",
          "status": "completed"
        },
        "tags": [],
        "colab": {
          "base_uri": "https://localhost:8080/"
        }
      },
      "outputs": [
        {
          "output_type": "stream",
          "name": "stderr",
          "text": [
            "<ipython-input-10-b508c25ab591>:2: DeprecationWarning: `np.object` is a deprecated alias for the builtin `object`. To silence this warning, use `object` by itself. Doing this will not modify any behavior and is safe. \n",
            "Deprecated in NumPy 1.20; for more details and guidance: https://numpy.org/devdocs/release/1.20.0-notes.html#deprecations\n",
            "  df.loc[: , df.dtypes == np.object].apply(lambda e : e.unique())\n"
          ]
        },
        {
          "output_type": "execute_result",
          "data": {
            "text/plain": [
              "workclass         [ State-gov,  Self-emp-not-inc,  Private,  Fed...\n",
              "education         [ Bachelors,  HS-grad,  11th,  Masters,  9th, ...\n",
              "marital-status    [ Never-married,  Married-civ-spouse,  Divorce...\n",
              "occupation        [ Adm-clerical,  Exec-managerial,  Handlers-cl...\n",
              "relationship      [ Not-in-family,  Husband,  Wife,  Own-child, ...\n",
              "race              [ White,  Black,  Asian-Pac-Islander,  Amer-In...\n",
              "sex                                                [ Male,  Female]\n",
              "native-country    [ United-States,  Cuba,  Jamaica,  India, nan,...\n",
              "salary                                              [ <=50K,  >50K]\n",
              "dtype: object"
            ]
          },
          "metadata": {},
          "execution_count": 10
        }
      ],
      "source": [
        "#Removing spaces from objects data types\n",
        "df.loc[: , df.dtypes == np.object].apply(lambda e : e.unique())"
      ]
    },
    {
      "cell_type": "code",
      "execution_count": null,
      "id": "0ca924ad",
      "metadata": {
        "execution": {
          "iopub.execute_input": "2022-10-14T19:20:13.112899Z",
          "iopub.status.busy": "2022-10-14T19:20:13.112446Z",
          "iopub.status.idle": "2022-10-14T19:20:13.243321Z",
          "shell.execute_reply": "2022-10-14T19:20:13.242036Z"
        },
        "id": "0ca924ad",
        "outputId": "eb17aec8-11e8-46f4-c5cc-4d6ee0b5184b",
        "papermill": {
          "duration": 0.151951,
          "end_time": "2022-10-14T19:20:13.246066",
          "exception": false,
          "start_time": "2022-10-14T19:20:13.094115",
          "status": "completed"
        },
        "tags": [],
        "colab": {
          "base_uri": "https://localhost:8080/"
        }
      },
      "outputs": [
        {
          "output_type": "stream",
          "name": "stderr",
          "text": [
            "<ipython-input-11-731be8b50486>:1: DeprecationWarning: `np.object` is a deprecated alias for the builtin `object`. To silence this warning, use `object` by itself. Doing this will not modify any behavior and is safe. \n",
            "Deprecated in NumPy 1.20; for more details and guidance: https://numpy.org/devdocs/release/1.20.0-notes.html#deprecations\n",
            "  for col in df.loc[: , df.dtypes == np.object].columns:\n"
          ]
        }
      ],
      "source": [
        "for col in df.loc[: , df.dtypes == np.object].columns:\n",
        "    df[col] = df[col].str.strip()"
      ]
    },
    {
      "cell_type": "code",
      "execution_count": null,
      "id": "1879a8f2",
      "metadata": {
        "execution": {
          "iopub.execute_input": "2022-10-14T19:20:13.331132Z",
          "iopub.status.busy": "2022-10-14T19:20:13.330507Z",
          "iopub.status.idle": "2022-10-14T19:20:13.370475Z",
          "shell.execute_reply": "2022-10-14T19:20:13.369582Z"
        },
        "id": "1879a8f2",
        "outputId": "26932a31-5946-46ae-e305-3c5009c05599",
        "papermill": {
          "duration": 0.060563,
          "end_time": "2022-10-14T19:20:13.372555",
          "exception": false,
          "start_time": "2022-10-14T19:20:13.311992",
          "status": "completed"
        },
        "tags": [],
        "colab": {
          "base_uri": "https://localhost:8080/",
          "height": 238
        }
      },
      "outputs": [
        {
          "output_type": "execute_result",
          "data": {
            "text/plain": [
              "                  count           mean            std      min       25%  \\\n",
              "age             32561.0      38.581647      13.640433     17.0      28.0   \n",
              "fnlwgt          32561.0  189778.366512  105549.977697  12285.0  117827.0   \n",
              "education-num   32561.0      10.080679       2.572720      1.0       9.0   \n",
              "capital-gain    32561.0    1077.648844    7385.292085      0.0       0.0   \n",
              "capital-loss    32561.0      87.303830     402.960219      0.0       0.0   \n",
              "hours-per-week  32561.0      40.437456      12.347429      1.0      40.0   \n",
              "\n",
              "                     50%       75%        max  \n",
              "age                 37.0      48.0       90.0  \n",
              "fnlwgt          178356.0  237051.0  1484705.0  \n",
              "education-num       10.0      12.0       16.0  \n",
              "capital-gain         0.0       0.0    99999.0  \n",
              "capital-loss         0.0       0.0     4356.0  \n",
              "hours-per-week      40.0      45.0       99.0  "
            ],
            "text/html": [
              "\n",
              "  <div id=\"df-917d6d3b-9b78-47a9-bdb8-4ab9c38159e4\">\n",
              "    <div class=\"colab-df-container\">\n",
              "      <div>\n",
              "<style scoped>\n",
              "    .dataframe tbody tr th:only-of-type {\n",
              "        vertical-align: middle;\n",
              "    }\n",
              "\n",
              "    .dataframe tbody tr th {\n",
              "        vertical-align: top;\n",
              "    }\n",
              "\n",
              "    .dataframe thead th {\n",
              "        text-align: right;\n",
              "    }\n",
              "</style>\n",
              "<table border=\"1\" class=\"dataframe\">\n",
              "  <thead>\n",
              "    <tr style=\"text-align: right;\">\n",
              "      <th></th>\n",
              "      <th>count</th>\n",
              "      <th>mean</th>\n",
              "      <th>std</th>\n",
              "      <th>min</th>\n",
              "      <th>25%</th>\n",
              "      <th>50%</th>\n",
              "      <th>75%</th>\n",
              "      <th>max</th>\n",
              "    </tr>\n",
              "  </thead>\n",
              "  <tbody>\n",
              "    <tr>\n",
              "      <th>age</th>\n",
              "      <td>32561.0</td>\n",
              "      <td>38.581647</td>\n",
              "      <td>13.640433</td>\n",
              "      <td>17.0</td>\n",
              "      <td>28.0</td>\n",
              "      <td>37.0</td>\n",
              "      <td>48.0</td>\n",
              "      <td>90.0</td>\n",
              "    </tr>\n",
              "    <tr>\n",
              "      <th>fnlwgt</th>\n",
              "      <td>32561.0</td>\n",
              "      <td>189778.366512</td>\n",
              "      <td>105549.977697</td>\n",
              "      <td>12285.0</td>\n",
              "      <td>117827.0</td>\n",
              "      <td>178356.0</td>\n",
              "      <td>237051.0</td>\n",
              "      <td>1484705.0</td>\n",
              "    </tr>\n",
              "    <tr>\n",
              "      <th>education-num</th>\n",
              "      <td>32561.0</td>\n",
              "      <td>10.080679</td>\n",
              "      <td>2.572720</td>\n",
              "      <td>1.0</td>\n",
              "      <td>9.0</td>\n",
              "      <td>10.0</td>\n",
              "      <td>12.0</td>\n",
              "      <td>16.0</td>\n",
              "    </tr>\n",
              "    <tr>\n",
              "      <th>capital-gain</th>\n",
              "      <td>32561.0</td>\n",
              "      <td>1077.648844</td>\n",
              "      <td>7385.292085</td>\n",
              "      <td>0.0</td>\n",
              "      <td>0.0</td>\n",
              "      <td>0.0</td>\n",
              "      <td>0.0</td>\n",
              "      <td>99999.0</td>\n",
              "    </tr>\n",
              "    <tr>\n",
              "      <th>capital-loss</th>\n",
              "      <td>32561.0</td>\n",
              "      <td>87.303830</td>\n",
              "      <td>402.960219</td>\n",
              "      <td>0.0</td>\n",
              "      <td>0.0</td>\n",
              "      <td>0.0</td>\n",
              "      <td>0.0</td>\n",
              "      <td>4356.0</td>\n",
              "    </tr>\n",
              "    <tr>\n",
              "      <th>hours-per-week</th>\n",
              "      <td>32561.0</td>\n",
              "      <td>40.437456</td>\n",
              "      <td>12.347429</td>\n",
              "      <td>1.0</td>\n",
              "      <td>40.0</td>\n",
              "      <td>40.0</td>\n",
              "      <td>45.0</td>\n",
              "      <td>99.0</td>\n",
              "    </tr>\n",
              "  </tbody>\n",
              "</table>\n",
              "</div>\n",
              "      <button class=\"colab-df-convert\" onclick=\"convertToInteractive('df-917d6d3b-9b78-47a9-bdb8-4ab9c38159e4')\"\n",
              "              title=\"Convert this dataframe to an interactive table.\"\n",
              "              style=\"display:none;\">\n",
              "        \n",
              "  <svg xmlns=\"http://www.w3.org/2000/svg\" height=\"24px\"viewBox=\"0 0 24 24\"\n",
              "       width=\"24px\">\n",
              "    <path d=\"M0 0h24v24H0V0z\" fill=\"none\"/>\n",
              "    <path d=\"M18.56 5.44l.94 2.06.94-2.06 2.06-.94-2.06-.94-.94-2.06-.94 2.06-2.06.94zm-11 1L8.5 8.5l.94-2.06 2.06-.94-2.06-.94L8.5 2.5l-.94 2.06-2.06.94zm10 10l.94 2.06.94-2.06 2.06-.94-2.06-.94-.94-2.06-.94 2.06-2.06.94z\"/><path d=\"M17.41 7.96l-1.37-1.37c-.4-.4-.92-.59-1.43-.59-.52 0-1.04.2-1.43.59L10.3 9.45l-7.72 7.72c-.78.78-.78 2.05 0 2.83L4 21.41c.39.39.9.59 1.41.59.51 0 1.02-.2 1.41-.59l7.78-7.78 2.81-2.81c.8-.78.8-2.07 0-2.86zM5.41 20L4 18.59l7.72-7.72 1.47 1.35L5.41 20z\"/>\n",
              "  </svg>\n",
              "      </button>\n",
              "      \n",
              "  <style>\n",
              "    .colab-df-container {\n",
              "      display:flex;\n",
              "      flex-wrap:wrap;\n",
              "      gap: 12px;\n",
              "    }\n",
              "\n",
              "    .colab-df-convert {\n",
              "      background-color: #E8F0FE;\n",
              "      border: none;\n",
              "      border-radius: 50%;\n",
              "      cursor: pointer;\n",
              "      display: none;\n",
              "      fill: #1967D2;\n",
              "      height: 32px;\n",
              "      padding: 0 0 0 0;\n",
              "      width: 32px;\n",
              "    }\n",
              "\n",
              "    .colab-df-convert:hover {\n",
              "      background-color: #E2EBFA;\n",
              "      box-shadow: 0px 1px 2px rgba(60, 64, 67, 0.3), 0px 1px 3px 1px rgba(60, 64, 67, 0.15);\n",
              "      fill: #174EA6;\n",
              "    }\n",
              "\n",
              "    [theme=dark] .colab-df-convert {\n",
              "      background-color: #3B4455;\n",
              "      fill: #D2E3FC;\n",
              "    }\n",
              "\n",
              "    [theme=dark] .colab-df-convert:hover {\n",
              "      background-color: #434B5C;\n",
              "      box-shadow: 0px 1px 3px 1px rgba(0, 0, 0, 0.15);\n",
              "      filter: drop-shadow(0px 1px 2px rgba(0, 0, 0, 0.3));\n",
              "      fill: #FFFFFF;\n",
              "    }\n",
              "  </style>\n",
              "\n",
              "      <script>\n",
              "        const buttonEl =\n",
              "          document.querySelector('#df-917d6d3b-9b78-47a9-bdb8-4ab9c38159e4 button.colab-df-convert');\n",
              "        buttonEl.style.display =\n",
              "          google.colab.kernel.accessAllowed ? 'block' : 'none';\n",
              "\n",
              "        async function convertToInteractive(key) {\n",
              "          const element = document.querySelector('#df-917d6d3b-9b78-47a9-bdb8-4ab9c38159e4');\n",
              "          const dataTable =\n",
              "            await google.colab.kernel.invokeFunction('convertToInteractive',\n",
              "                                                     [key], {});\n",
              "          if (!dataTable) return;\n",
              "\n",
              "          const docLinkHtml = 'Like what you see? Visit the ' +\n",
              "            '<a target=\"_blank\" href=https://colab.research.google.com/notebooks/data_table.ipynb>data table notebook</a>'\n",
              "            + ' to learn more about interactive tables.';\n",
              "          element.innerHTML = '';\n",
              "          dataTable['output_type'] = 'display_data';\n",
              "          await google.colab.output.renderOutput(dataTable, element);\n",
              "          const docLink = document.createElement('div');\n",
              "          docLink.innerHTML = docLinkHtml;\n",
              "          element.appendChild(docLink);\n",
              "        }\n",
              "      </script>\n",
              "    </div>\n",
              "  </div>\n",
              "  "
            ]
          },
          "metadata": {},
          "execution_count": 12
        }
      ],
      "source": [
        "#some statistical information about data \n",
        "df.describe().T"
      ]
    },
    {
      "cell_type": "code",
      "source": [
        "## describing categorical data\n",
        "df.describe(include = 'object').T"
      ],
      "metadata": {
        "colab": {
          "base_uri": "https://localhost:8080/",
          "height": 332
        },
        "id": "y0I28e76J8Cm",
        "outputId": "f6c05d2f-fc4e-4b1e-f3cb-37005ca4c606"
      },
      "id": "y0I28e76J8Cm",
      "execution_count": null,
      "outputs": [
        {
          "output_type": "execute_result",
          "data": {
            "text/plain": [
              "                count unique                 top   freq\n",
              "workclass       30725      8             Private  22696\n",
              "education       32561     16             HS-grad  10501\n",
              "marital-status  32561      7  Married-civ-spouse  14976\n",
              "occupation      30718     14      Prof-specialty   4140\n",
              "relationship    32561      6             Husband  13193\n",
              "race            32561      5               White  27816\n",
              "sex             32561      2                Male  21790\n",
              "native-country  31978     41       United-States  29170\n",
              "salary          32561      2               <=50K  24720"
            ],
            "text/html": [
              "\n",
              "  <div id=\"df-a0b9a8ca-7ec2-4f0e-a94a-968195f113c2\">\n",
              "    <div class=\"colab-df-container\">\n",
              "      <div>\n",
              "<style scoped>\n",
              "    .dataframe tbody tr th:only-of-type {\n",
              "        vertical-align: middle;\n",
              "    }\n",
              "\n",
              "    .dataframe tbody tr th {\n",
              "        vertical-align: top;\n",
              "    }\n",
              "\n",
              "    .dataframe thead th {\n",
              "        text-align: right;\n",
              "    }\n",
              "</style>\n",
              "<table border=\"1\" class=\"dataframe\">\n",
              "  <thead>\n",
              "    <tr style=\"text-align: right;\">\n",
              "      <th></th>\n",
              "      <th>count</th>\n",
              "      <th>unique</th>\n",
              "      <th>top</th>\n",
              "      <th>freq</th>\n",
              "    </tr>\n",
              "  </thead>\n",
              "  <tbody>\n",
              "    <tr>\n",
              "      <th>workclass</th>\n",
              "      <td>30725</td>\n",
              "      <td>8</td>\n",
              "      <td>Private</td>\n",
              "      <td>22696</td>\n",
              "    </tr>\n",
              "    <tr>\n",
              "      <th>education</th>\n",
              "      <td>32561</td>\n",
              "      <td>16</td>\n",
              "      <td>HS-grad</td>\n",
              "      <td>10501</td>\n",
              "    </tr>\n",
              "    <tr>\n",
              "      <th>marital-status</th>\n",
              "      <td>32561</td>\n",
              "      <td>7</td>\n",
              "      <td>Married-civ-spouse</td>\n",
              "      <td>14976</td>\n",
              "    </tr>\n",
              "    <tr>\n",
              "      <th>occupation</th>\n",
              "      <td>30718</td>\n",
              "      <td>14</td>\n",
              "      <td>Prof-specialty</td>\n",
              "      <td>4140</td>\n",
              "    </tr>\n",
              "    <tr>\n",
              "      <th>relationship</th>\n",
              "      <td>32561</td>\n",
              "      <td>6</td>\n",
              "      <td>Husband</td>\n",
              "      <td>13193</td>\n",
              "    </tr>\n",
              "    <tr>\n",
              "      <th>race</th>\n",
              "      <td>32561</td>\n",
              "      <td>5</td>\n",
              "      <td>White</td>\n",
              "      <td>27816</td>\n",
              "    </tr>\n",
              "    <tr>\n",
              "      <th>sex</th>\n",
              "      <td>32561</td>\n",
              "      <td>2</td>\n",
              "      <td>Male</td>\n",
              "      <td>21790</td>\n",
              "    </tr>\n",
              "    <tr>\n",
              "      <th>native-country</th>\n",
              "      <td>31978</td>\n",
              "      <td>41</td>\n",
              "      <td>United-States</td>\n",
              "      <td>29170</td>\n",
              "    </tr>\n",
              "    <tr>\n",
              "      <th>salary</th>\n",
              "      <td>32561</td>\n",
              "      <td>2</td>\n",
              "      <td>&lt;=50K</td>\n",
              "      <td>24720</td>\n",
              "    </tr>\n",
              "  </tbody>\n",
              "</table>\n",
              "</div>\n",
              "      <button class=\"colab-df-convert\" onclick=\"convertToInteractive('df-a0b9a8ca-7ec2-4f0e-a94a-968195f113c2')\"\n",
              "              title=\"Convert this dataframe to an interactive table.\"\n",
              "              style=\"display:none;\">\n",
              "        \n",
              "  <svg xmlns=\"http://www.w3.org/2000/svg\" height=\"24px\"viewBox=\"0 0 24 24\"\n",
              "       width=\"24px\">\n",
              "    <path d=\"M0 0h24v24H0V0z\" fill=\"none\"/>\n",
              "    <path d=\"M18.56 5.44l.94 2.06.94-2.06 2.06-.94-2.06-.94-.94-2.06-.94 2.06-2.06.94zm-11 1L8.5 8.5l.94-2.06 2.06-.94-2.06-.94L8.5 2.5l-.94 2.06-2.06.94zm10 10l.94 2.06.94-2.06 2.06-.94-2.06-.94-.94-2.06-.94 2.06-2.06.94z\"/><path d=\"M17.41 7.96l-1.37-1.37c-.4-.4-.92-.59-1.43-.59-.52 0-1.04.2-1.43.59L10.3 9.45l-7.72 7.72c-.78.78-.78 2.05 0 2.83L4 21.41c.39.39.9.59 1.41.59.51 0 1.02-.2 1.41-.59l7.78-7.78 2.81-2.81c.8-.78.8-2.07 0-2.86zM5.41 20L4 18.59l7.72-7.72 1.47 1.35L5.41 20z\"/>\n",
              "  </svg>\n",
              "      </button>\n",
              "      \n",
              "  <style>\n",
              "    .colab-df-container {\n",
              "      display:flex;\n",
              "      flex-wrap:wrap;\n",
              "      gap: 12px;\n",
              "    }\n",
              "\n",
              "    .colab-df-convert {\n",
              "      background-color: #E8F0FE;\n",
              "      border: none;\n",
              "      border-radius: 50%;\n",
              "      cursor: pointer;\n",
              "      display: none;\n",
              "      fill: #1967D2;\n",
              "      height: 32px;\n",
              "      padding: 0 0 0 0;\n",
              "      width: 32px;\n",
              "    }\n",
              "\n",
              "    .colab-df-convert:hover {\n",
              "      background-color: #E2EBFA;\n",
              "      box-shadow: 0px 1px 2px rgba(60, 64, 67, 0.3), 0px 1px 3px 1px rgba(60, 64, 67, 0.15);\n",
              "      fill: #174EA6;\n",
              "    }\n",
              "\n",
              "    [theme=dark] .colab-df-convert {\n",
              "      background-color: #3B4455;\n",
              "      fill: #D2E3FC;\n",
              "    }\n",
              "\n",
              "    [theme=dark] .colab-df-convert:hover {\n",
              "      background-color: #434B5C;\n",
              "      box-shadow: 0px 1px 3px 1px rgba(0, 0, 0, 0.15);\n",
              "      filter: drop-shadow(0px 1px 2px rgba(0, 0, 0, 0.3));\n",
              "      fill: #FFFFFF;\n",
              "    }\n",
              "  </style>\n",
              "\n",
              "      <script>\n",
              "        const buttonEl =\n",
              "          document.querySelector('#df-a0b9a8ca-7ec2-4f0e-a94a-968195f113c2 button.colab-df-convert');\n",
              "        buttonEl.style.display =\n",
              "          google.colab.kernel.accessAllowed ? 'block' : 'none';\n",
              "\n",
              "        async function convertToInteractive(key) {\n",
              "          const element = document.querySelector('#df-a0b9a8ca-7ec2-4f0e-a94a-968195f113c2');\n",
              "          const dataTable =\n",
              "            await google.colab.kernel.invokeFunction('convertToInteractive',\n",
              "                                                     [key], {});\n",
              "          if (!dataTable) return;\n",
              "\n",
              "          const docLinkHtml = 'Like what you see? Visit the ' +\n",
              "            '<a target=\"_blank\" href=https://colab.research.google.com/notebooks/data_table.ipynb>data table notebook</a>'\n",
              "            + ' to learn more about interactive tables.';\n",
              "          element.innerHTML = '';\n",
              "          dataTable['output_type'] = 'display_data';\n",
              "          await google.colab.output.renderOutput(dataTable, element);\n",
              "          const docLink = document.createElement('div');\n",
              "          docLink.innerHTML = docLinkHtml;\n",
              "          element.appendChild(docLink);\n",
              "        }\n",
              "      </script>\n",
              "    </div>\n",
              "  </div>\n",
              "  "
            ]
          },
          "metadata": {},
          "execution_count": 13
        }
      ]
    },
    {
      "cell_type": "code",
      "execution_count": null,
      "id": "3b5df3bc",
      "metadata": {
        "execution": {
          "iopub.execute_input": "2022-10-14T19:20:13.465144Z",
          "iopub.status.busy": "2022-10-14T19:20:13.464256Z",
          "iopub.status.idle": "2022-10-14T19:20:13.517941Z",
          "shell.execute_reply": "2022-10-14T19:20:13.517058Z"
        },
        "id": "3b5df3bc",
        "outputId": "802570a4-b712-4499-b350-5c01fcdd7194",
        "papermill": {
          "duration": 0.074875,
          "end_time": "2022-10-14T19:20:13.520172",
          "exception": false,
          "start_time": "2022-10-14T19:20:13.445297",
          "status": "completed"
        },
        "tags": [],
        "colab": {
          "base_uri": "https://localhost:8080/"
        }
      },
      "outputs": [
        {
          "output_type": "execute_result",
          "data": {
            "text/plain": [
              "age                  0\n",
              "workclass         1836\n",
              "fnlwgt               0\n",
              "education            0\n",
              "education-num        0\n",
              "marital-status       0\n",
              "occupation        1843\n",
              "relationship         0\n",
              "race                 0\n",
              "sex                  0\n",
              "capital-gain         0\n",
              "capital-loss         0\n",
              "hours-per-week       0\n",
              "native-country     583\n",
              "salary               0\n",
              "dtype: int64"
            ]
          },
          "metadata": {},
          "execution_count": 14
        }
      ],
      "source": [
        "df.isna().sum()"
      ]
    },
    {
      "cell_type": "markdown",
      "source": [
        "\n",
        "### There are multiple missing values in the categorical columns of the dataset. As the numbers are big in size we'll fill the missing values with most frequent values using mode"
      ],
      "metadata": {
        "id": "2GPICrQHKQU3"
      },
      "id": "2GPICrQHKQU3"
    },
    {
      "cell_type": "code",
      "execution_count": null,
      "id": "5c428648",
      "metadata": {
        "execution": {
          "iopub.execute_input": "2022-10-14T19:20:13.557743Z",
          "iopub.status.busy": "2022-10-14T19:20:13.557286Z",
          "iopub.status.idle": "2022-10-14T19:20:13.577734Z",
          "shell.execute_reply": "2022-10-14T19:20:13.576859Z"
        },
        "id": "5c428648",
        "papermill": {
          "duration": 0.041921,
          "end_time": "2022-10-14T19:20:13.580064",
          "exception": false,
          "start_time": "2022-10-14T19:20:13.538143",
          "status": "completed"
        },
        "tags": []
      },
      "outputs": [],
      "source": [
        "# Filling missing values with MODE\n",
        "\n",
        "df['workclass'].fillna(df['workclass'].mode()[0] , axis=0 ,inplace=True)\n",
        "df['occupation'].fillna(df['occupation'].mode()[0] , axis=0 ,inplace=True)\n",
        "df['native-country'].fillna(df['native-country'].mode()[0] , axis=0 ,inplace=True)"
      ]
    },
    {
      "cell_type": "code",
      "execution_count": null,
      "id": "ac817f7d",
      "metadata": {
        "execution": {
          "iopub.execute_input": "2022-10-14T19:20:13.617583Z",
          "iopub.status.busy": "2022-10-14T19:20:13.617143Z",
          "iopub.status.idle": "2022-10-14T19:20:13.640501Z",
          "shell.execute_reply": "2022-10-14T19:20:13.639337Z"
        },
        "id": "ac817f7d",
        "outputId": "57bb0a14-7712-4051-e11d-51d2c969a460",
        "papermill": {
          "duration": 0.044886,
          "end_time": "2022-10-14T19:20:13.642932",
          "exception": false,
          "start_time": "2022-10-14T19:20:13.598046",
          "status": "completed"
        },
        "tags": [],
        "colab": {
          "base_uri": "https://localhost:8080/"
        }
      },
      "outputs": [
        {
          "output_type": "execute_result",
          "data": {
            "text/plain": [
              "age               0\n",
              "workclass         0\n",
              "fnlwgt            0\n",
              "education         0\n",
              "education-num     0\n",
              "marital-status    0\n",
              "occupation        0\n",
              "relationship      0\n",
              "race              0\n",
              "sex               0\n",
              "capital-gain      0\n",
              "capital-loss      0\n",
              "hours-per-week    0\n",
              "native-country    0\n",
              "salary            0\n",
              "dtype: int64"
            ]
          },
          "metadata": {},
          "execution_count": 16
        }
      ],
      "source": [
        "#check null values again\n",
        "df.isnull().sum()"
      ]
    },
    {
      "cell_type": "markdown",
      "source": [
        "**Missing values have been treated**"
      ],
      "metadata": {
        "id": "TZtbMdZTK01L"
      },
      "id": "TZtbMdZTK01L"
    },
    {
      "cell_type": "markdown",
      "source": [
        "## Checking for duplicates and removing them"
      ],
      "metadata": {
        "id": "tIsKpkJoK8Gg"
      },
      "id": "tIsKpkJoK8Gg"
    },
    {
      "cell_type": "code",
      "execution_count": null,
      "id": "5d2bf1e9",
      "metadata": {
        "execution": {
          "iopub.execute_input": "2022-10-14T19:20:13.681053Z",
          "iopub.status.busy": "2022-10-14T19:20:13.679990Z",
          "iopub.status.idle": "2022-10-14T19:20:13.725196Z",
          "shell.execute_reply": "2022-10-14T19:20:13.724269Z"
        },
        "id": "5d2bf1e9",
        "outputId": "c9b0f8f6-9f60-49a8-d53f-ad1f8cfce9e5",
        "papermill": {
          "duration": 0.066679,
          "end_time": "2022-10-14T19:20:13.727597",
          "exception": false,
          "start_time": "2022-10-14T19:20:13.660918",
          "status": "completed"
        },
        "tags": [],
        "colab": {
          "base_uri": "https://localhost:8080/"
        }
      },
      "outputs": [
        {
          "output_type": "execute_result",
          "data": {
            "text/plain": [
              "24"
            ]
          },
          "metadata": {},
          "execution_count": 17
        }
      ],
      "source": [
        "#check Duplicates\n",
        "df.duplicated().sum()"
      ]
    },
    {
      "cell_type": "code",
      "execution_count": null,
      "id": "ef4166c6",
      "metadata": {
        "execution": {
          "iopub.execute_input": "2022-10-14T19:20:13.766866Z",
          "iopub.status.busy": "2022-10-14T19:20:13.765864Z",
          "iopub.status.idle": "2022-10-14T19:20:13.811503Z",
          "shell.execute_reply": "2022-10-14T19:20:13.810420Z"
        },
        "id": "ef4166c6",
        "outputId": "ee60c869-0a22-4391-f5cf-6122f40c8abe",
        "papermill": {
          "duration": 0.067549,
          "end_time": "2022-10-14T19:20:13.814146",
          "exception": false,
          "start_time": "2022-10-14T19:20:13.746597",
          "status": "completed"
        },
        "tags": [],
        "colab": {
          "base_uri": "https://localhost:8080/"
        }
      },
      "outputs": [
        {
          "output_type": "execute_result",
          "data": {
            "text/plain": [
              "(32537, 15)"
            ]
          },
          "metadata": {},
          "execution_count": 18
        }
      ],
      "source": [
        "#remove duplicate but leave one \n",
        "df.drop_duplicates(keep='first',inplace=True)\n",
        "df.shape"
      ]
    },
    {
      "cell_type": "code",
      "execution_count": null,
      "id": "b90d6593",
      "metadata": {
        "execution": {
          "iopub.execute_input": "2022-10-14T19:20:14.206626Z",
          "iopub.status.busy": "2022-10-14T19:20:14.206221Z",
          "iopub.status.idle": "2022-10-14T19:20:14.219590Z",
          "shell.execute_reply": "2022-10-14T19:20:14.218194Z"
        },
        "id": "b90d6593",
        "outputId": "de912d64-4bc2-4959-e4dd-7883773b5865",
        "papermill": {
          "duration": 0.036121,
          "end_time": "2022-10-14T19:20:14.221982",
          "exception": false,
          "start_time": "2022-10-14T19:20:14.185861",
          "status": "completed"
        },
        "tags": [],
        "colab": {
          "base_uri": "https://localhost:8080/"
        }
      },
      "outputs": [
        {
          "output_type": "stream",
          "name": "stdout",
          "text": [
            "HS-grad         10494\n",
            "Some-college     7282\n",
            "Bachelors        5353\n",
            "Masters          1722\n",
            "Assoc-voc        1382\n",
            "11th             1175\n",
            "Assoc-acdm       1067\n",
            "10th              933\n",
            "7th-8th           645\n",
            "Prof-school       576\n",
            "9th               514\n",
            "12th              433\n",
            "Doctorate         413\n",
            "5th-6th           332\n",
            "1st-4th           166\n",
            "Preschool          50\n",
            "Name: education, dtype: int64\n",
            "\n",
            "\n",
            "9     10494\n",
            "10     7282\n",
            "13     5353\n",
            "14     1722\n",
            "11     1382\n",
            "7      1175\n",
            "12     1067\n",
            "6       933\n",
            "4       645\n",
            "15      576\n",
            "5       514\n",
            "8       433\n",
            "16      413\n",
            "3       332\n",
            "2       166\n",
            "1        50\n",
            "Name: education-num, dtype: int64\n"
          ]
        }
      ],
      "source": [
        "#comparing education with education num\n",
        "print(df[\"education\"].value_counts(), end=\"\\n\\n\\n\")\n",
        "print(df[\"education-num\"].value_counts())"
      ]
    },
    {
      "cell_type": "markdown",
      "source": [
        "We can observe both columns are displaying same information with different data types"
      ],
      "metadata": {
        "id": "1qv9Cdk1LjPL"
      },
      "id": "1qv9Cdk1LjPL"
    },
    {
      "cell_type": "code",
      "execution_count": null,
      "id": "01799594",
      "metadata": {
        "execution": {
          "iopub.execute_input": "2022-10-14T19:20:14.261878Z",
          "iopub.status.busy": "2022-10-14T19:20:14.261471Z",
          "iopub.status.idle": "2022-10-14T19:20:14.268790Z",
          "shell.execute_reply": "2022-10-14T19:20:14.267593Z"
        },
        "id": "01799594",
        "outputId": "be780b3c-5a49-4658-c52d-a60d7f950efb",
        "papermill": {
          "duration": 0.030173,
          "end_time": "2022-10-14T19:20:14.271150",
          "exception": false,
          "start_time": "2022-10-14T19:20:14.240977",
          "status": "completed"
        },
        "tags": [],
        "colab": {
          "base_uri": "https://localhost:8080/",
          "height": 53
        }
      },
      "outputs": [
        {
          "output_type": "execute_result",
          "data": {
            "text/plain": [
              "'\\n1) Preschool\\n2) 1-4\\n3) 5-6\\n4) 7-8\\n5) 9\\n6) 10\\n7) 11\\n8) 12\\n9) HS-grad\\n10) some-college\\n11) Assoc-voc\\n12) Assoc-acdm\\n13) Bachelors\\n14) Master\\n15) Prof-school\\n16) Doctrate\\n'"
            ],
            "application/vnd.google.colaboratory.intrinsic+json": {
              "type": "string"
            }
          },
          "metadata": {},
          "execution_count": 20
        }
      ],
      "source": [
        "'''\n",
        "1) Preschool\n",
        "2) 1-4\n",
        "3) 5-6\n",
        "4) 7-8\n",
        "5) 9\n",
        "6) 10\n",
        "7) 11\n",
        "8) 12\n",
        "9) HS-grad\n",
        "10) some-college\n",
        "11) Assoc-voc\n",
        "12) Assoc-acdm\n",
        "13) Bachelors\n",
        "14) Master\n",
        "15) Prof-school\n",
        "16) Doctrate\n",
        "'''"
      ]
    },
    {
      "cell_type": "markdown",
      "id": "e24475d4",
      "metadata": {
        "id": "e24475d4",
        "papermill": {
          "duration": 0.01969,
          "end_time": "2022-10-14T19:20:14.310637",
          "exception": false,
          "start_time": "2022-10-14T19:20:14.290947",
          "status": "completed"
        },
        "tags": []
      },
      "source": [
        "# EDA"
      ]
    },
    {
      "cell_type": "code",
      "execution_count": null,
      "id": "19b56685",
      "metadata": {
        "execution": {
          "iopub.execute_input": "2022-10-14T19:20:14.404718Z",
          "iopub.status.busy": "2022-10-14T19:20:14.404075Z",
          "iopub.status.idle": "2022-10-14T19:20:14.649174Z",
          "shell.execute_reply": "2022-10-14T19:20:14.647390Z"
        },
        "id": "19b56685",
        "outputId": "1f81bd82-aea9-4c62-ac97-8ca5eb17cf13",
        "papermill": {
          "duration": 0.268465,
          "end_time": "2022-10-14T19:20:14.651906",
          "exception": false,
          "start_time": "2022-10-14T19:20:14.383441",
          "status": "completed"
        },
        "tags": [],
        "colab": {
          "base_uri": "https://localhost:8080/",
          "height": 530
        }
      },
      "outputs": [
        {
          "output_type": "execute_result",
          "data": {
            "text/plain": [
              "Text(0.5, 1.0, 'Salaries ratio for all persons')"
            ]
          },
          "metadata": {},
          "execution_count": 21
        },
        {
          "output_type": "display_data",
          "data": {
            "text/plain": [
              "<Figure size 720x576 with 1 Axes>"
            ],
            "image/png": "[encoded data removed]"
          },
          "metadata": {
            "needs_background": "light"
          }
        }
      ],
      "source": [
        "plt.figure(figsize=(10,8))\n",
        "ax = sns.countplot( x=df.salary , data= df , palette='viridis')\n",
        "ax.set_title('Salaries ratio for all persons')"
      ]
    },
    {
      "cell_type": "markdown",
      "source": [
        "**We can observe the ratio of person salary is to exceed 50000 to the salary below 50000 is approximately 3:1**"
      ],
      "metadata": {
        "id": "hqPueoRHMEVz"
      },
      "id": "hqPueoRHMEVz"
    },
    {
      "cell_type": "code",
      "execution_count": null,
      "id": "68d82ed3",
      "metadata": {
        "execution": {
          "iopub.execute_input": "2022-10-14T19:20:14.695289Z",
          "iopub.status.busy": "2022-10-14T19:20:14.694866Z",
          "iopub.status.idle": "2022-10-14T19:20:14.946853Z",
          "shell.execute_reply": "2022-10-14T19:20:14.945682Z"
        },
        "id": "68d82ed3",
        "outputId": "5d6d4005-1999-4418-9485-e879c05feb5e",
        "papermill": {
          "duration": 0.276198,
          "end_time": "2022-10-14T19:20:14.949419",
          "exception": false,
          "start_time": "2022-10-14T19:20:14.673221",
          "status": "completed"
        },
        "tags": [],
        "colab": {
          "base_uri": "https://localhost:8080/",
          "height": 530
        }
      },
      "outputs": [
        {
          "output_type": "execute_result",
          "data": {
            "text/plain": [
              "Text(0.5, 1.0, 'Salaries ratio by Gender')"
            ]
          },
          "metadata": {},
          "execution_count": 22
        },
        {
          "output_type": "display_data",
          "data": {
            "text/plain": [
              "<Figure size 720x576 with 1 Axes>"
            ],
            "image/png": "[encoded data removed]"
          },
          "metadata": {
            "needs_background": "light"
          }
        }
      ],
      "source": [
        "plt.figure(figsize=(10,8))\n",
        "sns.countplot(data=df, x='sex', hue='salary', palette='viridis').set_title('Salaries ratio by Gender')"
      ]
    },
    {
      "cell_type": "markdown",
      "source": [
        "**Female salary ratio is very low compared to male that says more number of female employees are getting paid more than 50000 when compared to same of gender who are getting paid less**"
      ],
      "metadata": {
        "id": "Lpq0wgtqMiZE"
      },
      "id": "Lpq0wgtqMiZE"
    },
    {
      "cell_type": "code",
      "execution_count": null,
      "id": "588a8c35",
      "metadata": {
        "execution": {
          "iopub.execute_input": "2022-10-14T19:20:15.054487Z",
          "iopub.status.busy": "2022-10-14T19:20:15.054072Z",
          "iopub.status.idle": "2022-10-14T19:20:15.609282Z",
          "shell.execute_reply": "2022-10-14T19:20:15.608182Z"
        },
        "id": "588a8c35",
        "outputId": "4259e645-ac5e-478a-812a-8753d8381cb8",
        "papermill": {
          "duration": 0.578956,
          "end_time": "2022-10-14T19:20:15.611803",
          "exception": false,
          "start_time": "2022-10-14T19:20:15.032847",
          "status": "completed"
        },
        "tags": [],
        "colab": {
          "base_uri": "https://localhost:8080/",
          "height": 386
        }
      },
      "outputs": [
        {
          "output_type": "execute_result",
          "data": {
            "text/plain": [
              "<seaborn.axisgrid.FacetGrid at 0x7ff1a13a69d0>"
            ]
          },
          "metadata": {},
          "execution_count": 23
        },
        {
          "output_type": "display_data",
          "data": {
            "text/plain": [
              "<Figure size 431.75x360 with 1 Axes>"
            ],
            "image/png": "[encoded data removed]"
          },
          "metadata": {
            "needs_background": "light"
          }
        }
      ],
      "source": [
        "sns.displot(data=df, x=\"age\", hue=\"salary\", kind=\"kde\", height=5, aspect=1)"
      ]
    },
    {
      "cell_type": "markdown",
      "source": [
        "**People aged below 30 are mostly under 50000 slot**"
      ],
      "metadata": {
        "id": "TKNxtgbsNnXO"
      },
      "id": "TKNxtgbsNnXO"
    },
    {
      "cell_type": "code",
      "execution_count": null,
      "id": "b5cde2af",
      "metadata": {
        "execution": {
          "iopub.execute_input": "2022-10-14T19:20:17.051884Z",
          "iopub.status.busy": "2022-10-14T19:20:17.051465Z",
          "iopub.status.idle": "2022-10-14T19:20:17.707693Z",
          "shell.execute_reply": "2022-10-14T19:20:17.706494Z"
        },
        "id": "b5cde2af",
        "outputId": "a4c25758-c64b-418d-b9f6-e21d6f217594",
        "papermill": {
          "duration": 0.681716,
          "end_time": "2022-10-14T19:20:17.710251",
          "exception": false,
          "start_time": "2022-10-14T19:20:17.028535",
          "status": "completed"
        },
        "tags": [],
        "colab": {
          "base_uri": "https://localhost:8080/",
          "height": 386
        }
      },
      "outputs": [
        {
          "output_type": "execute_result",
          "data": {
            "text/plain": [
              "<seaborn.axisgrid.FacetGrid at 0x7ff19cad7af0>"
            ]
          },
          "metadata": {},
          "execution_count": 24
        },
        {
          "output_type": "display_data",
          "data": {
            "text/plain": [
              "<Figure size 431.75x360 with 1 Axes>"
            ],
            "image/png": "[encoded data removed]"
          },
          "metadata": {
            "needs_background": "light"
          }
        }
      ],
      "source": [
        "sns.displot(data=df, x=\"fnlwgt\", hue=\"salary\", kind=\"kde\", height=5, aspect=1)"
      ]
    },
    {
      "cell_type": "code",
      "execution_count": null,
      "id": "0b954cb8",
      "metadata": {
        "execution": {
          "iopub.execute_input": "2022-10-14T19:20:18.707828Z",
          "iopub.status.busy": "2022-10-14T19:20:18.707165Z",
          "iopub.status.idle": "2022-10-14T19:20:19.882769Z",
          "shell.execute_reply": "2022-10-14T19:20:19.881898Z"
        },
        "id": "0b954cb8",
        "outputId": "2b9bcdf8-8090-4614-92d6-39b6255395d0",
        "papermill": {
          "duration": 1.203159,
          "end_time": "2022-10-14T19:20:19.885181",
          "exception": false,
          "start_time": "2022-10-14T19:20:18.682022",
          "status": "completed"
        },
        "tags": [],
        "colab": {
          "base_uri": "https://localhost:8080/",
          "height": 289
        }
      },
      "outputs": [
        {
          "output_type": "display_data",
          "data": {
            "text/plain": [
              "<Figure size 1440x1080 with 25 Axes>"
            ],
            "image/png": "[encoded data removed]"
          },
          "metadata": {
            "needs_background": "light"
          }
        }
      ],
      "source": [
        "#check outliers\n",
        "df.plot(kind = \"box\" , subplots = True , figsize = (20,15) ,  layout = (5,5))\n",
        "plt.show()"
      ]
    },
    {
      "cell_type": "code",
      "execution_count": null,
      "id": "1c9b8838",
      "metadata": {
        "execution": {
          "iopub.execute_input": "2022-10-14T19:20:19.935662Z",
          "iopub.status.busy": "2022-10-14T19:20:19.934935Z",
          "iopub.status.idle": "2022-10-14T19:20:20.295155Z",
          "shell.execute_reply": "2022-10-14T19:20:20.293925Z"
        },
        "id": "1c9b8838",
        "outputId": "1a48a687-fb10-4323-b69a-9e468a651cfb",
        "papermill": {
          "duration": 0.387501,
          "end_time": "2022-10-14T19:20:20.297357",
          "exception": false,
          "start_time": "2022-10-14T19:20:19.909856",
          "status": "completed"
        },
        "tags": [],
        "colab": {
          "base_uri": "https://localhost:8080/",
          "height": 486
        }
      },
      "outputs": [
        {
          "output_type": "execute_result",
          "data": {
            "text/plain": [
              "<matplotlib.axes._subplots.AxesSubplot at 0x7ff19ca86880>"
            ]
          },
          "metadata": {},
          "execution_count": 26
        },
        {
          "output_type": "display_data",
          "data": {
            "text/plain": [
              "<Figure size 1080x576 with 1 Axes>"
            ],
            "image/png": "[encoded data removed]"
          },
          "metadata": {
            "needs_background": "light"
          }
        }
      ],
      "source": [
        "plt.figure(figsize=(15,8))\n",
        "sns.boxplot(data=df, y=\"age\")"
      ]
    },
    {
      "cell_type": "code",
      "execution_count": null,
      "id": "9b0e2869",
      "metadata": {
        "execution": {
          "iopub.execute_input": "2022-10-14T19:20:20.346586Z",
          "iopub.status.busy": "2022-10-14T19:20:20.346159Z",
          "iopub.status.idle": "2022-10-14T19:20:20.354468Z",
          "shell.execute_reply": "2022-10-14T19:20:20.353678Z"
        },
        "id": "9b0e2869",
        "outputId": "3b13bb82-8824-485d-bde7-2e29032e0b86",
        "papermill": {
          "duration": 0.035627,
          "end_time": "2022-10-14T19:20:20.356715",
          "exception": false,
          "start_time": "2022-10-14T19:20:20.321088",
          "status": "completed"
        },
        "tags": [],
        "colab": {
          "base_uri": "https://localhost:8080/"
        }
      },
      "outputs": [
        {
          "output_type": "execute_result",
          "data": {
            "text/plain": [
              "(2031, 15)"
            ]
          },
          "metadata": {},
          "execution_count": 27
        }
      ],
      "source": [
        "outAge = df[df['age'] > 61]\n",
        "outAge.shape #get number of rows with outliers (Q3 + 1.5(Q3 - Q1))"
      ]
    },
    {
      "cell_type": "markdown",
      "source": [
        "**As there are 2031 outliers of age present in data it might have some effect on the datset so not treating them**"
      ],
      "metadata": {
        "id": "e85rs_zYPm3O"
      },
      "id": "e85rs_zYPm3O"
    },
    {
      "cell_type": "code",
      "execution_count": null,
      "id": "dbed1645",
      "metadata": {
        "execution": {
          "iopub.execute_input": "2022-10-14T19:20:20.472854Z",
          "iopub.status.busy": "2022-10-14T19:20:20.472420Z",
          "iopub.status.idle": "2022-10-14T19:20:20.938555Z",
          "shell.execute_reply": "2022-10-14T19:20:20.937450Z"
        },
        "id": "dbed1645",
        "outputId": "d4827fd9-03e4-4bd8-d6ac-d2f2edbe702f",
        "papermill": {
          "duration": 0.494303,
          "end_time": "2022-10-14T19:20:20.940850",
          "exception": false,
          "start_time": "2022-10-14T19:20:20.446547",
          "status": "completed"
        },
        "tags": [],
        "colab": {
          "base_uri": "https://localhost:8080/",
          "height": 552
        }
      },
      "outputs": [
        {
          "output_type": "stream",
          "name": "stderr",
          "text": [
            "/usr/local/lib/python3.8/dist-packages/seaborn/distributions.py:2619: FutureWarning: `distplot` is a deprecated function and will be removed in a future version. Please adapt your code to use either `displot` (a figure-level function with similar flexibility) or `histplot` (an axes-level function for histograms).\n",
            "  warnings.warn(msg, FutureWarning)\n"
          ]
        },
        {
          "output_type": "display_data",
          "data": {
            "text/plain": [
              "<Figure size 720x576 with 1 Axes>"
            ],
            "image/png": "[encoded data removed]"
          },
          "metadata": {
            "needs_background": "light"
          }
        }
      ],
      "source": [
        "plt.figure(figsize=(10,8))\n",
        "sns.distplot(df['education-num'])\n",
        "plt.show()"
      ]
    },
    {
      "cell_type": "code",
      "execution_count": null,
      "id": "84f124d3",
      "metadata": {
        "execution": {
          "iopub.execute_input": "2022-10-14T19:20:20.991450Z",
          "iopub.status.busy": "2022-10-14T19:20:20.991048Z",
          "iopub.status.idle": "2022-10-14T19:20:21.002494Z",
          "shell.execute_reply": "2022-10-14T19:20:21.001144Z"
        },
        "id": "84f124d3",
        "outputId": "d06df210-7363-419a-d6a6-3df1d6fb9e7f",
        "papermill": {
          "duration": 0.040182,
          "end_time": "2022-10-14T19:20:21.005413",
          "exception": false,
          "start_time": "2022-10-14T19:20:20.965231",
          "status": "completed"
        },
        "tags": [],
        "colab": {
          "base_uri": "https://localhost:8080/"
        }
      },
      "outputs": [
        {
          "output_type": "execute_result",
          "data": {
            "text/plain": [
              "(548, 15)"
            ]
          },
          "metadata": {},
          "execution_count": 29
        }
      ],
      "source": [
        "outEdu = df[df['education-num'] < 3.5]\n",
        "outEdu.shape #get number of rows with outliers (Q1 - 1.5(Q3 - Q1))"
      ]
    },
    {
      "cell_type": "code",
      "execution_count": null,
      "id": "0051fcd3",
      "metadata": {
        "execution": {
          "iopub.execute_input": "2022-10-14T19:20:21.065312Z",
          "iopub.status.busy": "2022-10-14T19:20:21.064264Z",
          "iopub.status.idle": "2022-10-14T19:20:21.079454Z",
          "shell.execute_reply": "2022-10-14T19:20:21.078069Z"
        },
        "id": "0051fcd3",
        "papermill": {
          "duration": 0.045682,
          "end_time": "2022-10-14T19:20:21.082408",
          "exception": false,
          "start_time": "2022-10-14T19:20:21.036726",
          "status": "completed"
        },
        "tags": []
      },
      "outputs": [],
      "source": [
        "df.drop(outEdu.index, inplace = True)"
      ]
    },
    {
      "cell_type": "code",
      "source": [
        "## As the education_num and education is displaying same information in different way let's remove education column\n",
        "df.drop('education', axis = 1, inplace = True)"
      ],
      "metadata": {
        "id": "xOY8r6uETHFb"
      },
      "id": "xOY8r6uETHFb",
      "execution_count": null,
      "outputs": []
    },
    {
      "cell_type": "markdown",
      "source": [
        "## Converting categorical to numerical"
      ],
      "metadata": {
        "id": "uVxW7TRBP8qX"
      },
      "id": "uVxW7TRBP8qX"
    },
    {
      "cell_type": "code",
      "execution_count": null,
      "id": "4d6d9713",
      "metadata": {
        "execution": {
          "iopub.execute_input": "2022-10-14T19:20:21.282969Z",
          "iopub.status.busy": "2022-10-14T19:20:21.281716Z",
          "iopub.status.idle": "2022-10-14T19:20:21.287385Z",
          "shell.execute_reply": "2022-10-14T19:20:21.286308Z"
        },
        "id": "4d6d9713",
        "papermill": {
          "duration": 0.035048,
          "end_time": "2022-10-14T19:20:21.289748",
          "exception": false,
          "start_time": "2022-10-14T19:20:21.254700",
          "status": "completed"
        },
        "tags": []
      },
      "outputs": [],
      "source": [
        "le = LabelEncoder()"
      ]
    },
    {
      "cell_type": "code",
      "execution_count": null,
      "id": "7fa72f15",
      "metadata": {
        "execution": {
          "iopub.execute_input": "2022-10-14T19:20:21.343130Z",
          "iopub.status.busy": "2022-10-14T19:20:21.342602Z",
          "iopub.status.idle": "2022-10-14T19:20:21.412577Z",
          "shell.execute_reply": "2022-10-14T19:20:21.411646Z"
        },
        "id": "7fa72f15",
        "papermill": {
          "duration": 0.100273,
          "end_time": "2022-10-14T19:20:21.415659",
          "exception": false,
          "start_time": "2022-10-14T19:20:21.315386",
          "status": "completed"
        },
        "tags": []
      },
      "outputs": [],
      "source": [
        "for i in df.columns:\n",
        "    if (df[i].dtypes== 'object') :\n",
        "        df[i] = le.fit_transform(df[i])"
      ]
    },
    {
      "cell_type": "code",
      "source": [
        "X = df.iloc[:, 0:-1]\n",
        "y = df.iloc[:, -1]"
      ],
      "metadata": {
        "id": "fOBnTXoNXI9m"
      },
      "id": "fOBnTXoNXI9m",
      "execution_count": null,
      "outputs": []
    },
    {
      "cell_type": "code",
      "source": [
        "smote=SMOTE(random_state=42)\n",
        "X_resampled, y_resampled = smote.fit_resample(X, y)"
      ],
      "metadata": {
        "id": "39Yst6bQXFcq"
      },
      "id": "39Yst6bQXFcq",
      "execution_count": null,
      "outputs": []
    },
    {
      "cell_type": "markdown",
      "id": "b0eda338",
      "metadata": {
        "id": "b0eda338",
        "papermill": {
          "duration": 0.024803,
          "end_time": "2022-10-14T19:20:22.658961",
          "exception": false,
          "start_time": "2022-10-14T19:20:22.634158",
          "status": "completed"
        },
        "tags": []
      },
      "source": [
        "# Modeling"
      ]
    },
    {
      "cell_type": "markdown",
      "id": "c7185419",
      "metadata": {
        "id": "c7185419",
        "papermill": {
          "duration": 0.025247,
          "end_time": "2022-10-14T19:20:22.710534",
          "exception": false,
          "start_time": "2022-10-14T19:20:22.685287",
          "status": "completed"
        },
        "tags": []
      },
      "source": [
        "# Random Forest Model"
      ]
    },
    {
      "cell_type": "code",
      "execution_count": null,
      "id": "9464179c",
      "metadata": {
        "execution": {
          "iopub.execute_input": "2022-10-14T19:20:22.763700Z",
          "iopub.status.busy": "2022-10-14T19:20:22.763288Z",
          "iopub.status.idle": "2022-10-14T19:20:22.767594Z",
          "shell.execute_reply": "2022-10-14T19:20:22.766683Z"
        },
        "id": "9464179c",
        "papermill": {
          "duration": 0.033635,
          "end_time": "2022-10-14T19:20:22.769711",
          "exception": false,
          "start_time": "2022-10-14T19:20:22.736076",
          "status": "completed"
        },
        "tags": []
      },
      "outputs": [],
      "source": [
        "clf = RandomForestClassifier()"
      ]
    },
    {
      "cell_type": "code",
      "source": [
        "X_train, X_test, y_train, y_test = train_test_split(X_resampled, y_resampled, test_size=0.2,random_state=44 )"
      ],
      "metadata": {
        "id": "a-Zkdg5QXOmT"
      },
      "id": "a-Zkdg5QXOmT",
      "execution_count": null,
      "outputs": []
    },
    {
      "cell_type": "code",
      "execution_count": null,
      "id": "e350470b",
      "metadata": {
        "execution": {
          "iopub.execute_input": "2022-10-14T19:20:22.895805Z",
          "iopub.status.busy": "2022-10-14T19:20:22.895385Z",
          "iopub.status.idle": "2022-10-14T19:20:27.890253Z",
          "shell.execute_reply": "2022-10-14T19:20:27.889096Z"
        },
        "id": "e350470b",
        "papermill": {
          "duration": 5.024218,
          "end_time": "2022-10-14T19:20:27.893233",
          "exception": false,
          "start_time": "2022-10-14T19:20:22.869015",
          "status": "completed"
        },
        "tags": []
      },
      "outputs": [],
      "source": [
        "model = clf.fit(X_train, y_train)"
      ]
    },
    {
      "cell_type": "code",
      "execution_count": null,
      "id": "a2ea958e",
      "metadata": {
        "execution": {
          "iopub.execute_input": "2022-10-14T19:20:27.947938Z",
          "iopub.status.busy": "2022-10-14T19:20:27.947269Z",
          "iopub.status.idle": "2022-10-14T19:20:28.186141Z",
          "shell.execute_reply": "2022-10-14T19:20:28.185008Z"
        },
        "id": "a2ea958e",
        "papermill": {
          "duration": 0.268873,
          "end_time": "2022-10-14T19:20:28.189046",
          "exception": false,
          "start_time": "2022-10-14T19:20:27.920173",
          "status": "completed"
        },
        "tags": []
      },
      "outputs": [],
      "source": [
        "y_pred = model.predict(X_test)"
      ]
    },
    {
      "cell_type": "code",
      "execution_count": null,
      "id": "bdad91e9",
      "metadata": {
        "execution": {
          "iopub.execute_input": "2022-10-14T19:20:28.246235Z",
          "iopub.status.busy": "2022-10-14T19:20:28.245291Z",
          "iopub.status.idle": "2022-10-14T19:20:28.485490Z",
          "shell.execute_reply": "2022-10-14T19:20:28.484232Z"
        },
        "id": "bdad91e9",
        "outputId": "4b8db409-6fd4-4f7e-9585-323f0f91e5d1",
        "papermill": {
          "duration": 0.272393,
          "end_time": "2022-10-14T19:20:28.488647",
          "exception": false,
          "start_time": "2022-10-14T19:20:28.216254",
          "status": "completed"
        },
        "tags": [],
        "colab": {
          "base_uri": "https://localhost:8080/"
        }
      },
      "outputs": [
        {
          "output_type": "stream",
          "name": "stdout",
          "text": [
            "Accuracy on Test Data : 87.65 %\n"
          ]
        }
      ],
      "source": [
        "print(\"Accuracy on Test Data : {:,.2f}\".format(clf.score(X_test , y_test) *100 ) , '%')"
      ]
    },
    {
      "cell_type": "code",
      "execution_count": null,
      "id": "e08e198f",
      "metadata": {
        "execution": {
          "iopub.execute_input": "2022-10-14T19:20:28.541303Z",
          "iopub.status.busy": "2022-10-14T19:20:28.540674Z",
          "iopub.status.idle": "2022-10-14T19:20:28.548092Z",
          "shell.execute_reply": "2022-10-14T19:20:28.546828Z"
        },
        "id": "e08e198f",
        "outputId": "6aa75d24-1c72-4e12-da5f-d8e3d6b074ec",
        "papermill": {
          "duration": 0.036222,
          "end_time": "2022-10-14T19:20:28.550492",
          "exception": false,
          "start_time": "2022-10-14T19:20:28.514270",
          "status": "completed"
        },
        "tags": [],
        "colab": {
          "base_uri": "https://localhost:8080/"
        }
      },
      "outputs": [
        {
          "output_type": "stream",
          "name": "stdout",
          "text": [
            "0.8765125659323612\n"
          ]
        }
      ],
      "source": [
        "print(accuracy_score(y_pred, y_test))"
      ]
    },
    {
      "cell_type": "code",
      "execution_count": null,
      "id": "420e902c",
      "metadata": {
        "execution": {
          "iopub.execute_input": "2022-10-14T19:20:28.602837Z",
          "iopub.status.busy": "2022-10-14T19:20:28.602406Z",
          "iopub.status.idle": "2022-10-14T19:20:28.612768Z",
          "shell.execute_reply": "2022-10-14T19:20:28.611689Z"
        },
        "id": "420e902c",
        "outputId": "f3dbded8-a92f-44ba-c4ae-b6dfd599d28f",
        "papermill": {
          "duration": 0.03958,
          "end_time": "2022-10-14T19:20:28.615227",
          "exception": false,
          "start_time": "2022-10-14T19:20:28.575647",
          "status": "completed"
        },
        "tags": [],
        "colab": {
          "base_uri": "https://localhost:8080/"
        }
      },
      "outputs": [
        {
          "output_type": "execute_result",
          "data": {
            "text/plain": [
              "array([[4158,  629],\n",
              "       [ 565, 4317]])"
            ]
          },
          "metadata": {},
          "execution_count": 66
        }
      ],
      "source": [
        "confusion_matrix(y_test ,y_pred)"
      ]
    },
    {
      "cell_type": "code",
      "execution_count": null,
      "id": "3c5ab64d",
      "metadata": {
        "execution": {
          "iopub.execute_input": "2022-10-14T19:20:28.667501Z",
          "iopub.status.busy": "2022-10-14T19:20:28.666714Z",
          "iopub.status.idle": "2022-10-14T19:20:29.080819Z",
          "shell.execute_reply": "2022-10-14T19:20:29.079479Z"
        },
        "id": "3c5ab64d",
        "outputId": "1ca8e67b-cf3e-4598-89f7-db733ea2f6c5",
        "papermill": {
          "duration": 0.443066,
          "end_time": "2022-10-14T19:20:29.083393",
          "exception": false,
          "start_time": "2022-10-14T19:20:28.640327",
          "status": "completed"
        },
        "tags": [],
        "colab": {
          "base_uri": "https://localhost:8080/",
          "height": 351
        }
      },
      "outputs": [
        {
          "output_type": "stream",
          "name": "stderr",
          "text": [
            "/usr/local/lib/python3.8/dist-packages/sklearn/utils/deprecation.py:87: FutureWarning: Function plot_confusion_matrix is deprecated; Function `plot_confusion_matrix` is deprecated in 1.0 and will be removed in 1.2. Use one of the class methods: ConfusionMatrixDisplay.from_predictions or ConfusionMatrixDisplay.from_estimator.\n",
            "  warnings.warn(msg, category=FutureWarning)\n"
          ]
        },
        {
          "output_type": "display_data",
          "data": {
            "text/plain": [
              "<Figure size 432x288 with 2 Axes>"
            ],
            "image/png": "[encoded data removed]"
          },
          "metadata": {
            "needs_background": "light"
          }
        }
      ],
      "source": [
        "plot_confusion_matrix(model, X_test, y_test,cmap='Blues')\n",
        "plt.title('RF: Confusion Matrix', fontsize=14)\n",
        "plt.show()"
      ]
    },
    {
      "cell_type": "code",
      "execution_count": null,
      "id": "7f341fc5",
      "metadata": {
        "execution": {
          "iopub.execute_input": "2022-10-14T19:20:29.136408Z",
          "iopub.status.busy": "2022-10-14T19:20:29.136020Z",
          "iopub.status.idle": "2022-10-14T19:20:29.162644Z",
          "shell.execute_reply": "2022-10-14T19:20:29.161188Z"
        },
        "id": "7f341fc5",
        "outputId": "b98ee431-b9a0-4590-dad8-0baa28700104",
        "papermill": {
          "duration": 0.056535,
          "end_time": "2022-10-14T19:20:29.165593",
          "exception": false,
          "start_time": "2022-10-14T19:20:29.109058",
          "status": "completed"
        },
        "tags": [],
        "colab": {
          "base_uri": "https://localhost:8080/"
        }
      },
      "outputs": [
        {
          "output_type": "stream",
          "name": "stdout",
          "text": [
            "              precision    recall  f1-score   support\n",
            "\n",
            "           0       0.88      0.87      0.87      4787\n",
            "           1       0.87      0.88      0.88      4882\n",
            "\n",
            "    accuracy                           0.88      9669\n",
            "   macro avg       0.88      0.88      0.88      9669\n",
            "weighted avg       0.88      0.88      0.88      9669\n",
            "\n"
          ]
        }
      ],
      "source": [
        "print(classification_report(y_test , y_pred))"
      ]
    },
    {
      "cell_type": "markdown",
      "source": [
        "## XGBoost model"
      ],
      "metadata": {
        "id": "p1KPkkN0XVCG"
      },
      "id": "p1KPkkN0XVCG"
    },
    {
      "cell_type": "code",
      "source": [
        "from xgboost import XGBClassifier "
      ],
      "metadata": {
        "id": "tGSispvMXPTx"
      },
      "id": "tGSispvMXPTx",
      "execution_count": null,
      "outputs": []
    },
    {
      "cell_type": "code",
      "source": [
        "xgb = XGBClassifier()\n",
        "xgbc = xgb.fit(X_train, y_train)\n",
        "xgb_pred = xgb.predict(X_test)"
      ],
      "metadata": {
        "id": "HxG_LTeWXpfa"
      },
      "id": "HxG_LTeWXpfa",
      "execution_count": null,
      "outputs": []
    },
    {
      "cell_type": "code",
      "source": [
        "xgb_train_pred = xgb.predict(X_train)\n",
        "xgb_train_accuracy = accuracy_score(y_train, xgb_train_pred)*100\n",
        "xgb_train_accuracy"
      ],
      "metadata": {
        "colab": {
          "base_uri": "https://localhost:8080/"
        },
        "id": "vE5h1zHcXvrI",
        "outputId": "aad8da6d-3d6f-4242-d7b4-7bfcc123b2d7"
      },
      "id": "vE5h1zHcXvrI",
      "execution_count": null,
      "outputs": [
        {
          "output_type": "execute_result",
          "data": {
            "text/plain": [
              "86.7666451195863"
            ]
          },
          "metadata": {},
          "execution_count": 78
        }
      ]
    },
    {
      "cell_type": "code",
      "source": [
        "xgb_test_accuracy = accuracy_score(y_test, xgb_pred)*100\n",
        "xgb_test_accuracy"
      ],
      "metadata": {
        "colab": {
          "base_uri": "https://localhost:8080/"
        },
        "id": "oICbPTBVX09X",
        "outputId": "231a1480-5bf4-4fc2-b300-9a747d99353e"
      },
      "id": "oICbPTBVX09X",
      "execution_count": null,
      "outputs": [
        {
          "output_type": "execute_result",
          "data": {
            "text/plain": [
              "86.14127624366532"
            ]
          },
          "metadata": {},
          "execution_count": 79
        }
      ]
    },
    {
      "cell_type": "code",
      "source": [
        "print(classification_report(y_test, xgb_pred))"
      ],
      "metadata": {
        "colab": {
          "base_uri": "https://localhost:8080/"
        },
        "id": "7WPZB3dCX79u",
        "outputId": "2d5512a0-a229-4e69-c697-3bd82f419f68"
      },
      "id": "7WPZB3dCX79u",
      "execution_count": null,
      "outputs": [
        {
          "output_type": "stream",
          "name": "stdout",
          "text": [
            "              precision    recall  f1-score   support\n",
            "\n",
            "           0       0.89      0.82      0.85      4787\n",
            "           1       0.84      0.90      0.87      4882\n",
            "\n",
            "    accuracy                           0.86      9669\n",
            "   macro avg       0.86      0.86      0.86      9669\n",
            "weighted avg       0.86      0.86      0.86      9669\n",
            "\n"
          ]
        }
      ]
    },
    {
      "cell_type": "code",
      "source": [
        "plot_confusion_matrix(xgbc, X_test, y_test,cmap='Blues')\n",
        "plt.title('XGB: Confusion Matrix', fontsize=14)\n",
        "plt.show()"
      ],
      "metadata": {
        "colab": {
          "base_uri": "https://localhost:8080/",
          "height": 351
        },
        "id": "f5QSMBztX_5Q",
        "outputId": "75f486c9-2343-4949-9e77-13df054016f9"
      },
      "id": "f5QSMBztX_5Q",
      "execution_count": null,
      "outputs": [
        {
          "output_type": "stream",
          "name": "stderr",
          "text": [
            "/usr/local/lib/python3.8/dist-packages/sklearn/utils/deprecation.py:87: FutureWarning: Function plot_confusion_matrix is deprecated; Function `plot_confusion_matrix` is deprecated in 1.0 and will be removed in 1.2. Use one of the class methods: ConfusionMatrixDisplay.from_predictions or ConfusionMatrixDisplay.from_estimator.\n",
            "  warnings.warn(msg, category=FutureWarning)\n"
          ]
        },
        {
          "output_type": "display_data",
          "data": {
            "text/plain": [
              "<Figure size 432x288 with 2 Axes>"
            ],
            "image/png": "[encoded data removed]"
          },
          "metadata": {
            "needs_background": "light"
          }
        }
      ]
    },
    {
      "cell_type": "markdown",
      "source": [
        "## KNN model "
      ],
      "metadata": {
        "id": "x49dlICvYjHD"
      },
      "id": "x49dlICvYjHD"
    },
    {
      "cell_type": "code",
      "source": [
        "from sklearn.neighbors import KNeighborsClassifier\n"
      ],
      "metadata": {
        "id": "VdkvCM3XYE-F"
      },
      "id": "VdkvCM3XYE-F",
      "execution_count": null,
      "outputs": []
    },
    {
      "cell_type": "code",
      "source": [
        "k_values = range(3, 21)\n",
        "list(k_values)"
      ],
      "metadata": {
        "colab": {
          "base_uri": "https://localhost:8080/"
        },
        "id": "6tttEOYXYot-",
        "outputId": "a26d3361-af03-441e-99dd-8afdc2a2c037"
      },
      "id": "6tttEOYXYot-",
      "execution_count": null,
      "outputs": [
        {
          "output_type": "execute_result",
          "data": {
            "text/plain": [
              "[3, 4, 5, 6, 7, 8, 9, 10, 11, 12, 13, 14, 15, 16, 17, 18, 19, 20]"
            ]
          },
          "metadata": {},
          "execution_count": 84
        }
      ]
    },
    {
      "cell_type": "code",
      "source": [
        "test_accuracy={}"
      ],
      "metadata": {
        "id": "C-IuOI13YrUf"
      },
      "id": "C-IuOI13YrUf",
      "execution_count": null,
      "outputs": []
    },
    {
      "cell_type": "code",
      "source": [
        "for k in k_values:\n",
        "  knn = KNeighborsClassifier(n_neighbors = k)\n",
        "  knn.fit(X_train, y_train)\n",
        "  knn_pred = knn.predict(X_test)\n",
        "  test_accuracy[k] = accuracy_score(y_test, knn_pred)"
      ],
      "metadata": {
        "id": "f5qVfTkrYtPP"
      },
      "id": "f5qVfTkrYtPP",
      "execution_count": null,
      "outputs": []
    },
    {
      "cell_type": "code",
      "source": [
        "test_accuracy"
      ],
      "metadata": {
        "colab": {
          "base_uri": "https://localhost:8080/"
        },
        "id": "3GA_YJFlY03S",
        "outputId": "4e78e4b8-1791-4bf6-9fd4-49d30b8a0d1c"
      },
      "id": "3GA_YJFlY03S",
      "execution_count": null,
      "outputs": [
        {
          "output_type": "execute_result",
          "data": {
            "text/plain": [
              "{3: 0.745371806805254,\n",
              " 4: 0.7362705553831834,\n",
              " 5: 0.7290309235701727,\n",
              " 6: 0.7262384941565829,\n",
              " 7: 0.718688592408729,\n",
              " 8: 0.7173440893577412,\n",
              " 9: 0.7105181507911883,\n",
              " 10: 0.7114489605957183,\n",
              " 11: 0.7021408625504189,\n",
              " 12: 0.7048298686523943,\n",
              " 13: 0.695314923983866,\n",
              " 14: 0.6949012307374082,\n",
              " 15: 0.6892129485986142,\n",
              " 16: 0.6895232185334574,\n",
              " 17: 0.6866273658082532,\n",
              " 18: 0.6874547523011687,\n",
              " 19: 0.6820767400972179,\n",
              " 20: 0.6860068259385665}"
            ]
          },
          "metadata": {},
          "execution_count": 87
        }
      ]
    },
    {
      "cell_type": "markdown",
      "source": [
        "## From the above analysis we can observe that random forest model is giving better model with 87.65% accuracy"
      ],
      "metadata": {
        "id": "4Q1YQZgJZA5R"
      },
      "id": "4Q1YQZgJZA5R"
    },
    {
      "cell_type": "code",
      "source": [],
      "metadata": {
        "id": "_aKNiZu5Y3j3"
      },
      "id": "_aKNiZu5Y3j3",
      "execution_count": null,
      "outputs": []
    }
  ],
  "metadata": {
    "kernelspec": {
      "display_name": "Python 3",
      "language": "python",
      "name": "python3"
    },
    "language_info": {
      "codemirror_mode": {
        "name": "ipython",
        "version": 3
      },
      "file_extension": ".py",
      "mimetype": "text/x-python",
      "name": "python",
      "nbconvert_exporter": "python",
      "pygments_lexer": "ipython3",
      "version": "3.7.12"
    },
    "papermill": {
      "default_parameters": {},
      "duration": 29.619367,
      "end_time": "2022-10-14T19:20:30.164875",
      "environment_variables": {},
      "exception": null,
      "input_path": "__notebook__.ipynb",
      "output_path": "__notebook__.ipynb",
      "parameters": {},
      "start_time": "2022-10-14T19:20:00.545508",
      "version": "2.3.4"
    },
    "colab": {
      "provenance": []
    }
  },
  "nbformat": 4,
  "nbformat_minor": 5
}